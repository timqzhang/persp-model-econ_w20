{
 "cells": [
  {
   "cell_type": "markdown",
   "metadata": {},
   "source": [
    "# Midterm (MACS 30150), February 10, 2020 [20 points total]\n",
    "### Qian Zhang\n",
    "You will have an hour and fifty minutes to take this exam.\n",
    "1. Put your name in the space provided above (without the brackets).\n",
    "2. Download this notebook and accompanying data `data/hh_inc_synth.txt` and images `images/hist_inc_2.png`.\n",
    "3. The class will disconnect their wi-fi and begin taking the exam.\n",
    "4. The exam is open computer, closed internet, open note.\n",
    "5. Once you are done, you will signal to a TA or instructor to come over and monitor while you reconnect to the internet and upload your edited notebook to Canvas.\n",
    "\n",
    "Remember that you must clearly indicate your answers to all questions below. We will give partial credit for partially correct answers. The midterm is worth 20 points (2 problem sets)."
   ]
  },
  {
   "cell_type": "markdown",
   "metadata": {},
   "source": [
    "# 1. Numerical Integration [10 points total]\n",
    "Assume that the distribution of household income (in U.S. dollars \\\\$) is characterized by the two-parameter gamma (GA) distribution (similar to the log normal distribution). The following is the probability density function (PDF) of the gamma (GA) distribution, which tells you the probability density of variable $x$ for given values of parameters $\\alpha$ and $\\beta$.\n",
    "\n",
    "\\begin{equation*}\n",
    "\\begin{split}\n",
    "&\\text{(GA):}\\quad f(x;\\alpha,\\beta) = \\frac{1}{\\beta^\\alpha \\Gamma(\\alpha)}x^{\\alpha-1}e^{-\\frac{x}{\\beta}}, \\quad x>0, \\:\\alpha,\\beta>0 \\\\\n",
    "&\\quad\\quad \\text{where}\\quad \\Gamma(z)\\equiv\\int_0^\\infty t^{z-1}e^{-t}dt\n",
    "\\end{split}\n",
    "\\end{equation*}\n",
    "\n",
    "Some code for the PDF of the gamma (GA) distribution is the following."
   ]
  },
  {
   "cell_type": "code",
   "execution_count": 1,
   "metadata": {},
   "outputs": [],
   "source": [
    "import numpy as np\n",
    "import scipy.special as spc\n",
    "\n",
    "def GA_pdf(xvals, alpha, beta):\n",
    "    '''\n",
    "    --------------------------------------------------------------------\n",
    "    Returns the PDF values from the two-parameter gamma (GA)\n",
    "    distribution. See McDonald and Xu (1995).\n",
    "\n",
    "    (GA): f(x; alpha, beta) = (1 / ((beta ** alpha) *\n",
    "        spc.gamma(alpha))) * (x ** (alpha - 1)) * (e ** (-x / beta))\n",
    "    x in [0, infty), alpha, beta > 0\n",
    "    --------------------------------------------------------------------\n",
    "    INPUTS:\n",
    "    xvals = (N,) vector, values in the support of gamma distribution\n",
    "    alpha = scalar > 0, gamma distribution parameter\n",
    "    beta  = scalar > 0, gamma distribution parameter\n",
    "\n",
    "    OTHER FUNCTIONS AND FILES CALLED BY THIS FUNCTION:\n",
    "        spc.gamma()\n",
    "\n",
    "    OBJECTS CREATED WITHIN FUNCTION:\n",
    "    pdf_vals = (N,) vector, pdf values from gamma distribution\n",
    "               corresponding to xvals given parameters alpha and beta\n",
    "\n",
    "    FILES CREATED BY THIS FUNCTION: None\n",
    "\n",
    "    RETURNS: pdf_vals\n",
    "    --------------------------------------------------------------------\n",
    "    '''\n",
    "    pdf_vals = \\\n",
    "        np.float64((1 / ((beta ** alpha) * spc.gamma(alpha))) *\n",
    "                   (xvals ** (alpha - 1)) * np.exp(-xvals / beta))\n",
    "\n",
    "    return pdf_vals"
   ]
  },
  {
   "cell_type": "markdown",
   "metadata": {},
   "source": [
    "As a final suggestion for numerical approximations of integrals that use this `GA_pdf()` function, you can integrate this with a `lambda function` in which the `alpha` and `beta` are hard coded. For parts (b) and (c), one approach might be to define a `lambda` function like the following and use that as your input function for the `quad` command in part (c) or any of your Newton-Cotes methods in part (b)."
   ]
  },
  {
   "cell_type": "code",
   "execution_count": 2,
   "metadata": {},
   "outputs": [],
   "source": [
    "GApdf = lambda x: GA_pdf(x, alpha_1a, beta_1a)"
   ]
  },
  {
   "cell_type": "markdown",
   "metadata": {},
   "source": [
    "## 1a) Plot the GA distribution of income [2 points]\n",
    "Assume that the GA distribution coefficient values are $\\alpha=1.23$ and $\\beta=54,649.9$. Use Python to plot the GA PDF of income using 1,000 equally spaced income values between `1e-7` and \\\\$350,000 and using the `GA_pdf()` function above. Make sure your plot has an $x$-axis labeled \"income\" and a $y$-axis labeled \"density\"."
   ]
  },
  {
   "cell_type": "code",
   "execution_count": 3,
   "metadata": {},
   "outputs": [],
   "source": [
    "# import libraries\n",
    "\n",
    "import numpy as np\n",
    "import pandas as pd\n",
    "import scipy.stats as sts\n",
    "import matplotlib.pyplot as plt\n",
    "from scipy.stats import lognorm\n",
    "from scipy.stats import norm\n",
    "import scipy.optimize as opt\n",
    "from scipy import integrate\n",
    "import numpy.linalg as lin \n",
    "import sympy as sy\n",
    "from mpl_toolkits.mplot3d import Axes3D"
   ]
  },
  {
   "cell_type": "code",
   "execution_count": 4,
   "metadata": {},
   "outputs": [
    {
     "data": {
      "image/png": "[encoded data removed]",
      "text/plain": [
       "<Figure size 432x288 with 1 Axes>"
      ]
     },
     "metadata": {
      "needs_background": "light"
     },
     "output_type": "display_data"
    }
   ],
   "source": [
    "pts=np.linspace(1e-7,350000,1000)\n",
    "gapdf_pts=GA_pdf(pts,1.23,54649.9)\n",
    "plt.plot(pts,gapdf_pts)\n",
    "plt.xlabel('income')\n",
    "plt.ylabel('density')\n",
    "plt.show()"
   ]
  },
  {
   "cell_type": "markdown",
   "metadata": {},
   "source": [
    "## 1b) Midpoint, trapezoid, and Simpson's rule [5 points]\n",
    "Assuming $\\alpha=1.23$ and $\\beta=54,649.9$ in the gamma (GA) distribution, and using $N=30$ equally spaced bins, approximate the percent of the population with an income less than \\\\$75,000 using the midpoint rule, trapezoid rule, and Simpson's rule. The analytical expression for this percentage is given by the following integral.\n",
    "\n",
    "$$ \\int_0^{75,000}f(x;\\alpha,\\beta)dx $$\n",
    "\n",
    "Report your values for this approximated itegral for the midpoint rule, trapezoid rule, and Simpson's rule, respectively."
   ]
  },
  {
   "cell_type": "code",
   "execution_count": 5,
   "metadata": {},
   "outputs": [
    {
     "name": "stdout",
     "output_type": "stream",
     "text": [
      "Given N=30,\n",
      "midpoint approximation is:  0.6658937754128379\n",
      "trapezoid approximation is:  0.6565135570466718\n",
      "simpson approximation is:  0.662767035957449\n"
     ]
    }
   ],
   "source": [
    "def func_newton(g,a,b,n,method):\n",
    "    \n",
    "    # midpoint \n",
    "    \n",
    "    if method=='midpoint':\n",
    "        ans_mid=0\n",
    "        for i in range(n):\n",
    "            xi=a+((2*i+1)*(b-a)/(2*n))\n",
    "            ans_mid+=(b-a)*g(xi)/n\n",
    "        return ans_mid\n",
    "    \n",
    "    # trapezoid\n",
    "    \n",
    "    elif method=='trapezoid':\n",
    "        ans_tra=0\n",
    "        for i in range(n+1):\n",
    "            xi=a+(b-a)*i/n\n",
    "            if i==0:\n",
    "                ans_tra+=g(xi)\n",
    "            elif i==n:\n",
    "                ans_tra+=g(xi)\n",
    "            else:\n",
    "                ans_tra+=2*g(xi)\n",
    "        return ans_tra*(b-a)/(2*n)\n",
    "    \n",
    "    # simpson\n",
    "    \n",
    "    elif method=='simpson':\n",
    "        ans_sim=0\n",
    "        for i in range(2*n+1):\n",
    "            xi=a+(b-a)*i/(n*2)\n",
    "            if i==0:\n",
    "                ans_sim+=(b-a)*g(xi)/(6*n)\n",
    "            elif i==2*n:\n",
    "                ans_sim+=(b-a)*g(xi)/(6*n)\n",
    "            elif i%2==1:\n",
    "                ans_sim+=(b-a)*4*g(xi)/(6*n)\n",
    "            elif i%2==0:\n",
    "                ans_sim+=(b-a)*2*g(xi)/(6*n)\n",
    "        return ans_sim\n",
    "\n",
    "alpha_1a=1.23\n",
    "beta_1a = 54649.9\n",
    "\n",
    "GApdf = lambda x: GA_pdf(x, alpha_1a, beta_1a)\n",
    "\n",
    "n=30\n",
    "print('Given N=30,')\n",
    "print('midpoint approximation is: ',func_newton(GApdf,0,75000,n,'midpoint'))\n",
    "print('trapezoid approximation is: ',func_newton(GApdf,0,75000,n,'trapezoid'))\n",
    "print('simpson approximation is: ',func_newton(GApdf,0,75000,n,'simpson'))"
   ]
  },
  {
   "cell_type": "markdown",
   "metadata": {},
   "source": [
    "## 1c) Use Gaussian quadrature to approximate the integral [3 points]\n",
    "Use gaussian quadrature using the `scipy.integrate.quad()` command to approximate the percent of the population that earns less than \\\\$75,000 assuming that the population income is distributed according to the gamma (GA) distribution with parameter values $\\alpha=1.23$ and $\\beta=54,649.9$. Report your percentage that you calculated using Gaussian quadrature."
   ]
  },
  {
   "cell_type": "code",
   "execution_count": 6,
   "metadata": {},
   "outputs": [
    {
     "name": "stdout",
     "output_type": "stream",
     "text": [
      "The Gaussian quadrature approximation is:  0.6646972256281289\n"
     ]
    }
   ],
   "source": [
    "GApdf = lambda x: GA_pdf(x, alpha_1a, beta_1a)\n",
    "print('The Gaussian quadrature approximation is: ',integrate.quad(GApdf,0,75000)[0])"
   ]
  },
  {
   "cell_type": "markdown",
   "metadata": {},
   "source": [
    "# 2. Generalized method of moments estimation [10 points total]\n",
    "Suppose that your friend at the Bureau of Labor Statistics told you the following four moments (statistics) of the U.S. household income distribution in the third column of the table.\n",
    "\n",
    "| Income range | Number of households |Percent of population |\n",
    "| :--- | ---: | :---: |\n",
    "| Less than \\\\$10,000 | 9,233 | 7.6\\% |\n",
    "| \\\\$10,000 to \\\\$100,000 | 86,431 | 71.4\\% |\n",
    "| \\\\$100,000 to \\\\$160,000 | 16,347 | 13.5\\% |\n",
    "| Greater than \\\\$160,000 | 9,074 | 7.5\\% |\n",
    "\n",
    "Assume that these incomes are generated by the lognormal distribution, specified by the following probability density function (PDF).\n",
    "\n",
    "\\begin{equation*}\n",
    "\\begin{split}\n",
    "&(LN) \\quad f(x|\\mu,\\sigma) = \\frac{1}{x\\sigma\\sqrt{2\\pi}}e^{-\\frac{[\\ln(x)] - \\mu]^2}{2\\sigma^2}} \\\\\n",
    "&\\quad\\quad\\quad\\text{for}\\quad x>0, \\quad -\\infty<\\mu<\\infty, \\quad\\text{and}\\quad \\sigma>0\n",
    "\\end{split}\n",
    "\\end{equation*}"
   ]
  },
  {
   "cell_type": "markdown",
   "metadata": {},
   "source": [
    "One could plot a histogram of the information in the table above using the following code that imports the original data `hh_inc_synth.txt` from which the histogram was generated. (NOTE that you will not need to use the original data except for plotting fitted distributions over this histogram using the exact code below.)"
   ]
  },
  {
   "cell_type": "code",
   "execution_count": 7,
   "metadata": {},
   "outputs": [
    {
     "data": {
      "text/plain": [
       "Text(0, 0.5, 'Density (area sums to 1)')"
      ]
     },
     "execution_count": 7,
     "metadata": {},
     "output_type": "execute_result"
    },
    {
     "data": {
      "image/png": "[encoded data removed]",
      "text/plain": [
       "<Figure size 432x288 with 1 Axes>"
      ]
     },
     "metadata": {
      "needs_background": "light"
     },
     "output_type": "display_data"
    }
   ],
   "source": [
    "import numpy as np\n",
    "import matplotlib.pyplot as plt\n",
    "\n",
    "hh_inc_synth = np.loadtxt('data/hh_inc_synth.txt')\n",
    "\n",
    "bin_bound_list = [0, 10000, 100000, 160000, 350000]\n",
    "bin_widths = np.array([10000, 90000, 60000, 190000])\n",
    "N = len(hh_inc_synth)\n",
    "weight_inc = np.zeros(N)\n",
    "in_bin_1 = hh_inc_synth <= 10000\n",
    "in_bin_2 = (hh_inc_synth > 10000) * (hh_inc_synth <= 100000)\n",
    "in_bin_3 = (hh_inc_synth > 100000) * (hh_inc_synth <= 160000)\n",
    "in_bin_4 = hh_inc_synth > 160000\n",
    "weight_inc[in_bin_1] = 1 / (N * 10000)\n",
    "weight_inc[in_bin_2] = 1 / (N * 90000)\n",
    "weight_inc[in_bin_3] = 1 / (N * 60000)\n",
    "weight_inc[in_bin_4] = 1 / (N * 190000)\n",
    "\n",
    "n, bin_cuts, patches = \\\n",
    "    plt.hist(hh_inc_synth, bin_bound_list, edgecolor='black',\n",
    "             weights=weight_inc, label='data histogram')\n",
    "plt.title(r'Histogram of household income: $N=121,085$',\n",
    "          fontsize=13)\n",
    "plt.xticks(np.array([0, 10000, 100000, 160000, 350000]),\n",
    "           ('$0', '$10', '$100', '$160', '$350'))\n",
    "plt.xlabel(r'Household income (\\$000)')\n",
    "plt.ylabel(r'Density (area sums to 1)')"
   ]
  },
  {
   "cell_type": "markdown",
   "metadata": {},
   "source": [
    "Some python code for the PDF of the lognormal distribution is the following."
   ]
  },
  {
   "cell_type": "code",
   "execution_count": 8,
   "metadata": {},
   "outputs": [],
   "source": [
    "def LN_pdf(xvals, mu, sigma):\n",
    "    '''\n",
    "    --------------------------------------------------------------------\n",
    "    This function gives the PDF of the lognormal distribution for xvals\n",
    "    given mu and sigma\n",
    "\n",
    "    (LN): f(x; mu, sigma) = (1 / (x * sigma * sqrt(2 * pi))) *\n",
    "            exp((-1 / 2) * (((log(x) - mu) / sigma) ** 2))\n",
    "            x in [0, infty), mu in (-infty, infty), sigma > 0\n",
    "    --------------------------------------------------------------------\n",
    "    INPUTS:\n",
    "    xvals = (N,) vector, data\n",
    "    mu    = scalar, mean of the ln(x)\n",
    "    sigma = scalar > 0, standard deviation of ln(x)\n",
    "\n",
    "    OTHER FUNCTIONS AND FILES CALLED BY THIS FUNCTION: None\n",
    "\n",
    "    OBJECTS CREATED WITHIN FUNCTION:\n",
    "    pdf_vals        = (N,) vector, probability of each observation given\n",
    "                      the parameter values\n",
    "\n",
    "    FILES CREATED BY THIS FUNCTION: None\n",
    "\n",
    "    RETURNS: pdf_vals\n",
    "    --------------------------------------------------------------------\n",
    "    '''\n",
    "    pdf_vals = np.float64(((1 / (np.sqrt(2 * np.pi) * sigma * xvals)) *\n",
    "                          np.exp((-1.0 / 2.0) *\n",
    "                          (((np.log(xvals) - mu) / sigma) ** 2))))\n",
    "\n",
    "    return pdf_vals"
   ]
  },
  {
   "cell_type": "markdown",
   "metadata": {},
   "source": [
    "The following will help you to calculate your model moments. Using numerical integration of the PDF of the log normal distribution in your GMM minimization problem takes too long. The following method uses the cummulative distribution function (CDF). For a given $\\mu$ and $\\sigma$ of the log normal distribution, you can calculate the percent of a distribution between a lower bound `LB` and upper bound `UB` of income using the following code."
   ]
  },
  {
   "cell_type": "code",
   "execution_count": 9,
   "metadata": {},
   "outputs": [],
   "source": [
    "import scipy.stats as sts\n",
    "\n",
    "#pct_LBtoUB = (sts.lognorm.cdf(UB, s=sigma, scale=np.exp(mu)) -sts.lognorm.cdf(LB, s=sigma, scale=np.exp(mu)))"
   ]
  },
  {
   "cell_type": "markdown",
   "metadata": {},
   "source": [
    "## 2a) Plot a log normal distribution with the histogram (2 points)\n",
    "Plot a log normal distribution with mean $\\mu=11.5$ and $\\sigma=0.9$ using the `LN_pdf()` code for the lognorm PDF above. Plot the log normal distribution over the histogram using the histogram code above. Make sure to use the same `x`-axis and `y`-axis labels as in the histogram plot above. Make sure to put a legend in the upper-right corner."
   ]
  },
  {
   "cell_type": "code",
   "execution_count": 10,
   "metadata": {},
   "outputs": [
    {
     "data": {
      "text/plain": [
       "Text(0, 0.5, 'Density (area sums to 1)')"
      ]
     },
     "execution_count": 10,
     "metadata": {},
     "output_type": "execute_result"
    },
    {
     "data": {
      "image/png": "[encoded data removed]",
      "text/plain": [
       "<Figure size 432x288 with 1 Axes>"
      ]
     },
     "metadata": {
      "needs_background": "light"
     },
     "output_type": "display_data"
    }
   ],
   "source": [
    "pts2=np.linspace(1e-7, 400000,50000)\n",
    "lnpdf_pts=LN_pdf(pts2,11.5,0.9)\n",
    "\n",
    "ax=plt.gca()\n",
    "\n",
    "# hist the origin data\n",
    "n, bin_cuts, patches = \\\n",
    "    plt.hist(hh_inc_synth, bin_bound_list, edgecolor='black',\n",
    "             weights=weight_inc, label='data histogram')\n",
    "\n",
    "# plot the lognorm pdf\n",
    "ax.plot(pts2,lnpdf_pts,label='lognorm $\\mu=11.5, \\sigma=0.9$')\n",
    "\n",
    "plt.legend()\n",
    "plt.title(r'Histogram of household income: $N=121,085$',\n",
    "          fontsize=13)\n",
    "plt.xticks(np.array([0, 10000, 100000, 160000, 350000]),\n",
    "           ('$0', '$10', '$100', '$160', '$350'))\n",
    "plt.xlabel(r'Household income (\\$000)')\n",
    "plt.ylabel(r'Density (area sums to 1)')"
   ]
  },
  {
   "cell_type": "markdown",
   "metadata": {},
   "source": [
    "## 2b) GMM estimation with identity weighting matrix (5 points)\n",
    "Using the four moments in the table above fit the log normal distribution to the income data using GMM and the identity matix for the optimal weighting matrix. More specifically, estimate $\\mu$ and $\\sigma$ from the log normal distribution to match the percentage moments in the third column of the table above with the income bin cutoffs listed in the first column of the table above. Report your estimates $\\mu_{GMM1}$ and $\\sigma_{GMM1}$, criterion function value, data moments, and model moments at your estimated parameter values. Plot your estimated log normal distribution on top of the histogram of the data given in the code above. [**HINT:** Use the log normal CDF approach described above to calculate your model moments. Using numerical integrals will take too long.]"
   ]
  },
  {
   "cell_type": "code",
   "execution_count": 11,
   "metadata": {},
   "outputs": [],
   "source": [
    "# define four moments functions\n",
    "\n",
    "def data_moments_new(xvals):\n",
    "\n",
    "    bpct_1_dat = xvals[xvals < 10000].shape[0] / xvals.shape[0]\n",
    "    bpct_2_dat = xvals[(xvals >=10000) & (xvals < 100000)].shape[0] / xvals.shape[0]\n",
    "    bpct_3_dat = xvals[(xvals >=100000) & (xvals < 160000)].shape[0] / xvals.shape[0]\n",
    "    bpct_4_dat = xvals[xvals >=160000].shape[0] / xvals.shape[0]\n",
    "\n",
    "    return bpct_1_dat, bpct_2_dat, bpct_3_dat, bpct_4_dat\n",
    "\n",
    "\n",
    "def model_moments_new(mu, sigma):\n",
    "    \n",
    "    bpct_1_mod = sts.lognorm.cdf(10000, s=sigma, scale=np.exp(mu))\n",
    "    bpct_2_mod = sts.lognorm.cdf(100000, s=sigma, scale=np.exp(mu))-sts.lognorm.cdf(10000, s=sigma, scale=np.exp(mu))\n",
    "    bpct_3_mod = sts.lognorm.cdf(160000, s=sigma, scale=np.exp(mu)) -sts.lognorm.cdf(100000, s=sigma, scale=np.exp(mu))\n",
    "    bpct_4_mod = 1-sts.lognorm.cdf(160000, s=sigma, scale=np.exp(mu))\n",
    "    \n",
    "    return bpct_1_mod, bpct_2_mod, bpct_3_mod, bpct_4_mod\n",
    "\n",
    "\n",
    "def err_vec_new(xvals, mu, sigma, simple=False):\n",
    " \n",
    "    bpct_1_dat, bpct_2_dat, bpct_3_dat, bpct_4_dat = data_moments_new(xvals)\n",
    "    moms_data = np.array([[bpct_1_dat], [bpct_2_dat], [bpct_3_dat], [bpct_4_dat]])\n",
    "    \n",
    "    bpct_1_mod, bpct_2_mod, bpct_3_mod, bpct_4_mod  = model_moments_new(mu, sigma)\n",
    "    moms_model = np.array([[bpct_1_mod], [bpct_2_mod], [bpct_3_mod], [bpct_4_mod]])\n",
    "        \n",
    "    if simple:\n",
    "        err_vec = moms_model - moms_data\n",
    "    else:\n",
    "        err_vec = (moms_model - moms_data) / moms_data\n",
    "    \n",
    "    return err_vec\n",
    "\n",
    "\n",
    "def criterion_new(params, *args):\n",
    "        \n",
    "    mu, sigma = params\n",
    "    xvals, W = args\n",
    "        \n",
    "    err = err_vec_new(xvals, mu, abs(sigma), simple=False)\n",
    "    crit_val = err.T @ W @ err \n",
    "    \n",
    "    return crit_val"
   ]
  },
  {
   "cell_type": "code",
   "execution_count": 12,
   "metadata": {},
   "outputs": [
    {
     "name": "stdout",
     "output_type": "stream",
     "text": [
      "mu_GMM1= 10.622661631792186  sig_GMM1= 0.9706306607880723\n",
      "\n",
      "Data moments: \n",
      "\n",
      "The percentage of income<10000 from data = 0.07625221951521659 , \n",
      "The percentage of 10000<=income<100000 from data = 0.7138043523144898 , \n",
      "The percentage of 100000<=income<160000 from data = 0.13500433579716728 , \n",
      "The percentage of income>160000 from data = 0.07493909237312632\n",
      "\n",
      "Model moments: \n",
      "\n",
      "The percentage of income<10000 from model = 0.0728269802638845 , \n",
      "The percentage of 10000<=income<100000 from model = 0.7476544717619387 , \n",
      "The percentage of 100000<=income<160000 from model = 0.09897525139970964 , \n",
      "The percentage of income>160000 from model = 0.08054329657446724\n",
      "\n",
      "GMM criterion function value for four moments = 0.08108070105068846\n",
      "\n",
      "Error vector for four moments = [-0.04491986  0.04742213 -0.26687354  0.07478345]\n"
     ]
    },
    {
     "data": {
      "text/plain": [
       "      fun: array([[0.0810807]])\n",
       " hess_inv: <2x2 LbfgsInvHessProduct with dtype=float64>\n",
       "      jac: array([-1.38777878e-08,  9.15933995e-08])\n",
       "  message: b'CONVERGENCE: REL_REDUCTION_OF_F_<=_FACTR*EPSMCH'\n",
       "     nfev: 30\n",
       "      nit: 7\n",
       "   status: 0\n",
       "  success: True\n",
       "        x: array([10.62266163,  0.97063066])"
      ]
     },
     "execution_count": 12,
     "metadata": {},
     "output_type": "execute_result"
    }
   ],
   "source": [
    "# estimation\n",
    "\n",
    "mu_init = 10.5\n",
    "sig_init = 1\n",
    "params_init = np.array([mu_init, sig_init])\n",
    "\n",
    "# identity matrix\n",
    "\n",
    "W_hat = np.eye(4)\n",
    "\n",
    "gmm_args = (hh_inc_synth, W_hat)\n",
    "results = opt.minimize(criterion_new, params_init, tol=1e-14,method='L-BFGS-B', args=(gmm_args), bounds=((1e-10, None), (1e-10, None)))\n",
    "\n",
    "mu_GMM1, sig_GMM1 = results.x\n",
    "print('mu_GMM1=', mu_GMM1, ' sig_GMM1=', sig_GMM1)\n",
    "\n",
    "# comparison\n",
    "\n",
    "per_data_1, per_data_2, per_data_3, per_data_4 = data_moments_new(hh_inc_synth)\n",
    "per_mod_1, per_mod_2, per_mod_3, per_mod_4 = model_moments_new(mu_GMM1, sig_GMM1)\n",
    "\n",
    "err = err_vec_new(hh_inc_synth, mu_GMM1, sig_GMM1, False).reshape(4,)\n",
    "\n",
    "print('\\nData moments: \\n')\n",
    "print('The percentage of income<10000 from data =', per_data_1, ', \\nThe percentage of 10000<=income<100000 from data =', per_data_2, ', \\nThe percentage of 100000<=income<160000 from data =', per_data_3, ', \\nThe percentage of income>160000 from data =', per_data_4)\n",
    "print('\\nModel moments: \\n')\n",
    "print('The percentage of income<10000 from model =', per_mod_1, ', \\nThe percentage of 10000<=income<100000 from model =', per_mod_2, ', \\nThe percentage of 100000<=income<160000 from model =', per_mod_3, ', \\nThe percentage of income>160000 from model =', per_mod_4)\n",
    "\n",
    "print('\\nGMM criterion function value for four moments =', results.fun[0][0]) \n",
    "print('\\nError vector for four moments =', err)\n",
    "results"
   ]
  },
  {
   "cell_type": "code",
   "execution_count": 13,
   "metadata": {},
   "outputs": [
    {
     "data": {
      "text/plain": [
       "Text(0, 0.5, 'Density (area sums to 1)')"
      ]
     },
     "execution_count": 13,
     "metadata": {},
     "output_type": "execute_result"
    },
    {
     "data": {
      "image/png": "[encoded data removed]",
      "text/plain": [
       "<Figure size 432x288 with 1 Axes>"
      ]
     },
     "metadata": {
      "needs_background": "light"
     },
     "output_type": "display_data"
    }
   ],
   "source": [
    "#plot\n",
    "\n",
    "lnpdf_pts_new=LN_pdf(pts2,mu_GMM1, sig_GMM1)\n",
    "\n",
    "ax=plt.gca()\n",
    "\n",
    "# hist the origin data\n",
    "n, bin_cuts, patches = \\\n",
    "    plt.hist(hh_inc_synth, bin_bound_list, edgecolor='black',\n",
    "             weights=weight_inc, label='data histogram')\n",
    "\n",
    "# plot the lognorm pdf\n",
    "ax.plot(pts2,lnpdf_pts_new,label='lognorm $\\mu=\\mu_{GMM1}, \\sigma=\\sigma_{GMM1}$')\n",
    "\n",
    "plt.legend()\n",
    "plt.title(r'Histogram of household income: $N=121,085$',\n",
    "          fontsize=13)\n",
    "plt.xticks(np.array([0, 10000, 100000, 160000, 350000]),\n",
    "           ('$0', '$10', '$100', '$160', '$350'))\n",
    "plt.xlabel(r'Household income (\\$000)')\n",
    "plt.ylabel(r'Density (area sums to 1)')"
   ]
  },
  {
   "cell_type": "markdown",
   "metadata": {},
   "source": [
    "## 2c) GMM estimation with two-step optimal weighting matrix (3 points)\n",
    "Using the four moments in the table above fit the log normal distribution to the income data using GMM and the two-step optimal weighting matrix. More specifically, estimate $\\mu$ and $\\sigma$ from the log normal distribution to match the percentage moments in the third column of the table above with the income bin cutoffs listed in the first column of the table above. Report your estimates $\\mu_{GMM2}$ and $\\sigma_{GMM2}$, criterion function value, data moments, and model moments at your estimated parameter values. Plot your estimated log normal distribution on top of the histogram of the data given in the code above. [**HINT:** Use the log normal CDF approach described above to calculate your model moments. Using numerical integrals will take too long.]"
   ]
  }
 ],
 "metadata": {
  "kernelspec": {
   "display_name": "Python 3",
   "language": "python",
   "name": "python3"
  },
  "language_info": {
   "codemirror_mode": {
    "name": "ipython",
    "version": 3
   },
   "file_extension": ".py",
   "mimetype": "text/x-python",
   "name": "python",
   "nbconvert_exporter": "python",
   "pygments_lexer": "ipython3",
   "version": "3.7.5"
  }
 },
 "nbformat": 4,
 "nbformat_minor": 2
}
