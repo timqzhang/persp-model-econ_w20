{
 "cells": [
  {
   "cell_type": "markdown",
   "metadata": {},
   "source": [
    "## Homework 2 for Perspective Winter 2020\n",
    "### Qian Zhang"
   ]
  },
  {
   "cell_type": "markdown",
   "metadata": {},
   "source": [
    "## Question 2"
   ]
  },
  {
   "cell_type": "markdown",
   "metadata": {},
   "source": [
    "### Ex 2.1 (a)"
   ]
  },
  {
   "cell_type": "code",
   "execution_count": 4,
   "metadata": {},
   "outputs": [
    {
     "name": "stdout",
     "output_type": "stream",
     "text": [
      "Given N=200\n",
      "midpoint approximation is:  4372.991172499995\n",
      "trapezoid approximation is:  4374.01766\n",
      "simpson approximation is:  4373.333335\n",
      "\n",
      "true value is:  4373.333333333333\n",
      "\n",
      "midpoint absolute error is:  0.34216083333831193\n",
      "trapezoid absolute error is:  0.6843266666674026\n",
      "simpson absolute error is:  1.6666672308929265e-06\n"
     ]
    }
   ],
   "source": [
    "#这部分主要是积分的各种simulation\n",
    "\n",
    "from matplotlib import pyplot as plt\n",
    "import numpy as np\n",
    "\n",
    "# newton的方法\n",
    "\n",
    "def func_newton(g,a,b,n,method):#n个点\n",
    "    \n",
    "    # midpoint 的方法 gxi是原函数\n",
    "    \n",
    "    if method=='midpoint':\n",
    "        ans_mid=0\n",
    "        for i in range(n):\n",
    "            xi=a+((2*i+1)*(b-a)/(2*n))\n",
    "            ans_mid+=(b-a)*g(xi)/n\n",
    "        return ans_mid\n",
    "    \n",
    "    # trapezoid的方法\n",
    "    \n",
    "    elif method=='trapezoid':\n",
    "        ans_tra=0\n",
    "        for i in range(n+1):\n",
    "            xi=a+(b-a)*i/n\n",
    "            if i==0:\n",
    "                ans_tra+=g(xi)\n",
    "            elif i==n:\n",
    "                ans_tra+=g(xi)\n",
    "            else:\n",
    "                ans_tra+=2*g(xi)\n",
    "        return ans_tra*(b-a)/(2*n)\n",
    "    \n",
    "    # simpson的方法\n",
    "    \n",
    "    else:\n",
    "        ans_sim=0\n",
    "        for i in range(2*n+1):\n",
    "            xi=a+(b-a)*i/(n*2)\n",
    "            if i==0:\n",
    "                ans_sim+=(b-a)*g(xi)/(6*n)\n",
    "            elif i==2*n:\n",
    "                ans_sim+=(b-a)*g(xi)/(6*n)\n",
    "            elif i%2==1:\n",
    "                ans_sim+=(b-a)*4*g(xi)/(6*n)\n",
    "            elif i%2==0:\n",
    "                ans_sim+=(b-a)*2*g(xi)/(6*n)\n",
    "        return ans_sim\n",
    "\n",
    "    \n",
    "gx=lambda x:0.1*x**4-1.5*x**3+0.53*x**2+2*x+1\n",
    "\n",
    "# gx用lambda来变得callable\n",
    "\n",
    "n=200\n",
    "print('Given N=200')\n",
    "print('midpoint approximation is: ',func_newton(gx,-10,10,n,'midpoint'))\n",
    "print('trapezoid approximation is: ',func_newton(gx,-10,10,n,'trapezoid'))\n",
    "print('simpson approximation is: ',func_newton(gx,-10,10,n,'simpson'))\n",
    "\n",
    "from scipy import integrate\n",
    "\n",
    "value=4373+1/3\n",
    "print()\n",
    "print('true value is: ',value)\n",
    "print()\n",
    "print('midpoint absolute error is: ',abs(func_newton(gx,-10,10,n,'midpoint')-value))\n",
    "print('trapezoid absolute error is: ',abs(func_newton(gx,-10,10,n,'trapezoid')-value))\n",
    "print('simpson absolute error is: ',abs(func_newton(gx,-10,10,n,'simpson')-value))"
   ]
  },
  {
   "cell_type": "code",
   "execution_count": 5,
   "metadata": {
    "scrolled": true
   },
   "outputs": [
    {
     "data": {
      "image/png": "[encoded data removed]",
      "text/plain": [
       "<Figure size 432x288 with 1 Axes>"
      ]
     },
     "metadata": {
      "needs_background": "light"
     },
     "output_type": "display_data"
    }
   ],
   "source": [
    "# np.arange 从20到200 step1\n",
    "\n",
    "Nvec = np.arange(20, 201, 1)\n",
    "er_midp=np.zeros(0)\n",
    "er_trape=np.zeros(0)\n",
    "er_simp=np.zeros(0)\n",
    "\n",
    "for i in range (20,201):\n",
    "    er_midp=np.append(er_midp,abs(func_newton(gx,-10,10,i,'midpoint')-4373-1/3))\n",
    "    er_trape=np.append(er_trape,abs(func_newton(gx,-10,10,i,'trapezoid')-4373-1/3))\n",
    "    er_simp=np.append(er_simp,abs(func_newton(gx,-10,10,i,'simpson')-4373-1/3))\n",
    "\n",
    "#plot\n",
    "plt.plot(Nvec,er_midp,label='Midpoint')\n",
    "plt.plot(Nvec,er_trape,label='Trapezoid')\n",
    "plt.plot(Nvec,er_simp,label='Simpson')\n",
    "plt.legend()\n",
    "plt.xlabel('Number of nodes')\n",
    "plt.ylabel('Absolute error')\n",
    "plt.show()"
   ]
  },
  {
   "cell_type": "markdown",
   "metadata": {},
   "source": [
    "### Ex 2.1 (b)"
   ]
  },
  {
   "cell_type": "code",
   "execution_count": 6,
   "metadata": {},
   "outputs": [
    {
     "data": {
      "text/plain": [
       "    fjac: array([[-1.]])\n",
       "     fun: array([4.4408921e-16])\n",
       " message: 'The solution converged.'\n",
       "    nfev: 9\n",
       "     qtf: array([2.15827356e-12])\n",
       "       r: array([6.29803361])\n",
       "  status: 1\n",
       " success: True\n",
       "       x: array([1.61091999])"
      ]
     },
     "execution_count": 6,
     "metadata": {},
     "output_type": "execute_result"
    },
    {
     "data": {
      "image/png": "[encoded data removed]",
      "text/plain": [
       "<Figure size 432x288 with 1 Axes>"
      ]
     },
     "metadata": {
      "needs_background": "light"
     },
     "output_type": "display_data"
    }
   ],
   "source": [
    "# 画图先画点\n",
    "\n",
    "pt=np.linspace(-10,10,10000)\n",
    "fpt=gx(pt)\n",
    "plt.gca().spines['bottom'].set_position('zero')\n",
    "plt.plot(pt,fpt)\n",
    "\n",
    "import scipy.optimize as opt\n",
    "\n",
    "# opt.root（原函数，init guess）求根，但只能出一个\n",
    "\n",
    "opt.root(gx,2)"
   ]
  },
  {
   "cell_type": "markdown",
   "metadata": {},
   "source": [
    "From the plot above, we know that the convex and concave parts can be considered symmetric, but the curving scale of concave part is much larger than the convex part. Therefore, the error of Trapezoid method is the largest among all the three methods.\n",
    "\n",
    "Also, Simpson method has the smallest error, since it is a non-linear simulation on g(x), adding that g(x) is also non-linear, so it is closer to the true value. \n",
    "\n",
    "For such reasons, the rank of three method is (from best to worst) Simpson, Midpoint, Trapezoid."
   ]
  },
  {
   "cell_type": "markdown",
   "metadata": {},
   "source": [
    "### Ex 2.2\n"
   ]
  },
  {
   "cell_type": "code",
   "execution_count": 19,
   "metadata": {},
   "outputs": [
    {
     "name": "stdout",
     "output_type": "stream",
     "text": [
      "1\n",
      "2\n",
      "3\n",
      "4\n",
      "5\n",
      "6\n",
      "7\n",
      "8\n",
      "9\n",
      "Node 1: 0.5, Weight 1: 0.0034669738030406686\n",
      "Node 2: 1.4, Weight 2: 0.014397446759775888\n",
      "Node 3: 2.3, Weight 3: 0.04894278070604151\n",
      "Node 4: 3.2, Weight 4: 0.11725292407790144\n",
      "Node 5: 4.1, Weight 5: 0.19802845246428785\n",
      "Node 6: 5.0, Weight 6: 0.2358228443779054\n",
      "Node 7: 5.9, Weight 7: 0.19802845246428774\n",
      "Node 8: 6.8, Weight 8: 0.1172529240779015\n",
      "Node 9: 7.7, Weight 9: 0.04894278070604152\n",
      "Node 10: 8.6, Weight 10: 0.014397446759775863\n",
      "Node 11: 9.5, Weight 11: 0.0034669738030406183\n",
      "0.9999999999999999\n"
     ]
    },
    {
     "data": {
      "image/png": "[encoded data removed]",
      "text/plain": [
       "<Figure size 432x288 with 1 Axes>"
      ]
     },
     "metadata": {
      "needs_background": "light"
     },
     "output_type": "display_data"
    }
   ],
   "source": [
    "# 估计正态分布的node上的weight\n",
    "\n",
    "import numpy as np\n",
    "def func_normal(mean,sd,n,k): \n",
    "    \n",
    "    from scipy.stats import norm\n",
    "    \n",
    "    # left和right是根据sigma来决定的\n",
    "    \n",
    "    weight=[]\n",
    "    node=[]\n",
    "    left=mean-k*sd\n",
    "    right=mean+k*sd\n",
    "    z=np.linspace(left,right,n)\n",
    "    \n",
    "    # norm.cdf的方法 （number，loc=mean, scale=sd)\n",
    "    \n",
    "    #0-10 一共11个点\n",
    "    \n",
    "    #z1\n",
    "    node.append(z[0])\n",
    "    weight.append(norm.cdf((z[0]+z[1])/2,mean,sd))\n",
    "    \n",
    "    #z2-z_n-1\n",
    "    for i in range(1,n-1):\n",
    "        print(i)\n",
    "        node.append(z[i])\n",
    "        zmin=(z[i-1]+z[i])/2\n",
    "        zmax=(z[i]+z[i+1])/2\n",
    "        normalfunc=lambda x: norm.pdf(x,mean,sd)\n",
    "        \n",
    "        # scipy的integrate.quad(fx, bottom, top) 出一个tuple 积分方法\n",
    "        \n",
    "        weight.append(integrate.quad(normalfunc,zmin,zmax)[0])\n",
    "        \n",
    "    #zn\n",
    "    node.append(z[-1])\n",
    "    weight.append(1-norm.cdf((z[-1]+z[-2])/2,mean,sd))\n",
    "    \n",
    "    return node,weight\n",
    "\n",
    "#print nodes and weights\n",
    "node,weight=func_normal(5,1.5,11,3)\n",
    "n=11\n",
    "su=0\n",
    "\n",
    "# weight的点的sum应该是1\n",
    "# sigma node*weight 是期望=mu\n",
    "\n",
    "for i in range(n):\n",
    "    print('Node {}: {}, Weight {}: {}'.format(i+1,node[i],i+1,weight[i]))\n",
    "    su=su+weight[i]\n",
    "print(su)\n",
    "#plot\n",
    "plt.plot(node,weight)\n",
    "plt.show()\n"
   ]
  },
  {
   "cell_type": "markdown",
   "metadata": {},
   "source": [
    "### Ex 2.3"
   ]
  },
  {
   "cell_type": "code",
   "execution_count": 5,
   "metadata": {},
   "outputs": [
    {
     "data": {
      "image/png": "[encoded data removed]",
      "text/plain": [
       "<Figure size 432x288 with 1 Axes>"
      ]
     },
     "metadata": {
      "needs_background": "light"
     },
     "output_type": "display_data"
    },
    {
     "name": "stdout",
     "output_type": "stream",
     "text": [
      "Node_log 1: 1.6487212707001282, Weight 1: 0.0034669738030406686\n",
      "Node_log 2: 4.0551999668446745, Weight 2: 0.014397446759775888\n",
      "Node_log 3: 9.974182454814718, Weight 3: 0.04894278070604151\n",
      "Node_log 4: 24.532530197109352, Weight 4: 0.11725292407790144\n",
      "Node_log 5: 60.34028759736195, Weight 5: 0.19802845246428785\n",
      "Node_log 6: 148.4131591025766, Weight 6: 0.2358228443779054\n",
      "Node_log 7: 365.0374678653289, Weight 7: 0.19802845246428774\n",
      "Node_log 8: 897.8472916504176, Weight 8: 0.1172529240779015\n",
      "Node_log 9: 2208.347991887209, Weight 9: 0.04894278070604152\n",
      "Node_log 10: 5431.659591362978, Weight 10: 0.014397446759775863\n",
      "Node_log 11: 13359.726829661873, Weight 11: 0.0034669738030406183\n"
     ]
    }
   ],
   "source": [
    "# node直接e^z\n",
    "\n",
    "def func_lognormal(mean,sd,n,k): \n",
    "    node,weight=func_normal(mean,sd,n,k)\n",
    "    A=np.exp(node)\n",
    "    return A,weight\n",
    "\n",
    "A,weight_log=func_lognormal(5,1.5,11,3)\n",
    "#plot\n",
    "plt.plot(A,weight_log)\n",
    "plt.show()\n",
    "\n",
    "n=11\n",
    "for i in range(n):\n",
    "    print('Node_log {}: {}, Weight {}: {}'.format(i+1,A[i],i+1,weight_log[i]))\n",
    "\n"
   ]
  },
  {
   "cell_type": "markdown",
   "metadata": {},
   "source": [
    "### Ex 2.4"
   ]
  },
  {
   "cell_type": "code",
   "execution_count": 6,
   "metadata": {},
   "outputs": [
    {
     "name": "stdout",
     "output_type": "stream",
     "text": [
      "Approximation is 50352.456192765894\n",
      "True value is 50011.087008521754\n",
      "Absolute error is 341.36918424414034\n"
     ]
    }
   ],
   "source": [
    "nodes,wei=func_lognormal(10.5,0.8,11,3)\n",
    "evalue=0\n",
    "\n",
    "#计算期望=sigma（pr*node），or 积分xfx\n",
    "\n",
    "for j in range(11):\n",
    "    evalue+=nodes[j]*wei[j]\n",
    "tvalue=(np.exp(10.5+0.8**2/2))\n",
    "\n",
    "print('Approximation is {}\\nTrue value is {}\\nAbsolute error is {}'.format(evalue,tvalue,abs(evalue-tvalue)))"
   ]
  },
  {
   "cell_type": "markdown",
   "metadata": {},
   "source": [
    "The approximation is not that accurate, with the error of 341.36918424414034."
   ]
  },
  {
   "cell_type": "markdown",
   "metadata": {},
   "source": [
    "### Ex 3.1"
   ]
  },
  {
   "cell_type": "code",
   "execution_count": 7,
   "metadata": {},
   "outputs": [
    {
     "name": "stdout",
     "output_type": "stream",
     "text": [
      "The solution for the function system is \n",
      "[ 5.55555556e+00  5.55555556e+00  8.88888889e+00 -7.74596669e+00\n",
      "  7.74596669e+00 -1.66429002e-10]\n",
      "\n",
      "Gaussian approximation is 4373.333333278705,\n",
      "Absolute error from true value is 5.462788976728916e-08\n"
     ]
    }
   ],
   "source": [
    "# 高斯估计\n",
    "\n",
    "from scipy import integrate as inte\n",
    "from scipy import optimize as opt\n",
    "def hx(n):\n",
    "    return lambda x: x**n\n",
    "\n",
    "# 几个para几个方程\n",
    "# 先决定N，就有几个w和几个x的点，再决定方程\n",
    "\n",
    "def func_gau(x):\n",
    "    return [x[0]+x[1]+x[2]-inte.quad(hx(0),-10,10)[0],x[0]*x[3]+x[1]*x[4]+x[2]*x[5]-inte.quad(hx(1),-10,10)[0],\n",
    "           x[0]*(x[3]**2)+x[1]*(x[4]**2)+x[2]*(x[5]**2)-inte.quad(hx(2),-10,10)[0],\n",
    "           x[0]*(x[3]**3)+x[1]*(x[4]**3)+x[2]*(x[5]**3)-inte.quad(hx(3),-10,10)[0],\n",
    "           x[0]*(x[3]**4)+x[1]*(x[4]**4)+x[2]*(x[5]**4)-inte.quad(hx(4),-10,10)[0],\n",
    "           x[0]*(x[3]**5)+x[1]*(x[4]**5)+x[2]*(x[5]**5)-inte.quad(hx(5),-10,10)[0]]\n",
    "\n",
    "# root可以解决一个list的func，w1,w2,w3,x1,x2,x3\n",
    "\n",
    "x_sol=opt.root(func_gau,[2,3,5,6,7,6])\n",
    "\n",
    "print('The solution for the function system is \\n{}'.format(x_sol.x))\n",
    "\n",
    "# gausian estimate = sigma (wi*g(xi))\n",
    "\n",
    "gau_eval_val=0\n",
    "for i in range(3):\n",
    "    gau_eval_val+=x_sol.x[i]*gx(x_sol.x[i+3])\n",
    "\n",
    "true_val=4373+1/3\n",
    "print()\n",
    "print ('Gaussian approximation is {},\\nAbsolute error from true value is {}'.format(gau_eval_val,abs(gau_eval_val-true_val)))\n"
   ]
  },
  {
   "cell_type": "markdown",
   "metadata": {},
   "source": [
    "Compared with the approximations in Ex 2.1 given N=200, the Gaussian one is performing better than all the three methods in Ex 2.1. Therefore, among all the approximation methods, the Gaussian performs best, followed by Simpson, Midpoint, and Trapezoid. Moreover, we only use a small N to approximate Gaussian estimate, so if given some other N in Gaussian or the three methods in Ex 2.1, the result may be different. "
   ]
  },
  {
   "cell_type": "markdown",
   "metadata": {},
   "source": [
    "### Ex 3.2"
   ]
  },
  {
   "cell_type": "code",
   "execution_count": 8,
   "metadata": {},
   "outputs": [
    {
     "name": "stdout",
     "output_type": "stream",
     "text": [
      "The absolute error is 6.063483048990292e-13\n"
     ]
    }
   ],
   "source": [
    "from scipy.integrate import quad\n",
    "\n",
    "# quad里面的fx是lambdify的\n",
    "\n",
    "gx = lambda x: 0.1*x**4 - 1.5*x**3 + 0.53*x**2 + 2*x+ 1\n",
    "gau_quad = quad(gx, -10, 10)[0]\n",
    "print('The absolute error is', abs(gau_quad-4373-1/3))"
   ]
  },
  {
   "cell_type": "markdown",
   "metadata": {},
   "source": [
    "The error is extremely small by `scipy.integrate.quad`."
   ]
  },
  {
   "cell_type": "markdown",
   "metadata": {},
   "source": [
    "### Ex 4.1"
   ]
  },
  {
   "cell_type": "code",
   "execution_count": 9,
   "metadata": {},
   "outputs": [
    {
     "name": "stdout",
     "output_type": "stream",
     "text": [
      "The smallest N is:  615 , and the approxomation is:  3.1414634146341465\n"
     ]
    }
   ],
   "source": [
    "# 估计pi的蒙特卡洛方法\n",
    "\n",
    "import scipy.stats as sts\n",
    "import numpy as np\n",
    "\n",
    "g_pi=lambda x,y: x**2+y**2\n",
    "\n",
    "def appro_pi(g,domain,n):\n",
    "    n_in = 0\n",
    "    mc_draw_x=np.random.uniform(domain[0][0],domain[0][1],n)\n",
    "    mc_draw_y=np.random.uniform(domain[1][0],domain[1][1],n)\n",
    "    \n",
    "    n_in=np.sum(g(mc_draw_x,mc_draw_y)<=1) # true 1 false 0\n",
    "    \n",
    "    return n_in*(domain[0][1]-domain[0][0])*(domain[1][1]-domain[1][0])/n  # 4是默认domain在-1，1，-1，1的\n",
    "\n",
    "maxn=1\n",
    "np.random.seed(seed=25)\n",
    "value_eval=appro_pi(g_pi,[[-1,1],[-1,1]],maxn)\n",
    "\n",
    "\n",
    "while round(value_eval,4)!=3.1415: #到第四位\n",
    "    maxn+=1\n",
    "    value_eval=appro_pi(g_pi,[[-1,1],[-1,1]],maxn)\n",
    "print ('The smallest N is: ',maxn,', and the approxomation is: ',value_eval) "
   ]
  },
  {
   "cell_type": "markdown",
   "metadata": {},
   "source": [
    "### Ex 4.2"
   ]
  },
  {
   "cell_type": "code",
   "execution_count": 13,
   "metadata": {},
   "outputs": [],
   "source": [
    "# 判断是否是质数\n",
    "\n",
    "def isPrime(n):\n",
    "    for i in range(2, int(np.sqrt(n) + 1)):\n",
    "        if n % i == 0:\n",
    "            return False\n",
    "    return True\n",
    "\n",
    "# 取质数的list\n",
    "\n",
    "def primes_ascend(N, min_val=2):\n",
    "    primes_vec = np.zeros(N, dtype=int)\n",
    "    MinIsEven = 1 - min_val % 2\n",
    "    MinIsGrtrThn2 = min_val > 2\n",
    "    curr_prime_ind = 0\n",
    "    if not MinIsGrtrThn2:\n",
    "        i = 2\n",
    "        curr_prime_ind += 1\n",
    "        primes_vec[0] = i\n",
    "    i = min(3, min_val + (MinIsEven * 1))\n",
    "    while curr_prime_ind < N:\n",
    "        if isPrime(i):\n",
    "            curr_prime_ind += 1\n",
    "            primes_vec[curr_prime_ind - 1] = i\n",
    "        i += 2\n",
    "    return primes_vec"
   ]
  },
  {
   "cell_type": "code",
   "execution_count": 14,
   "metadata": {},
   "outputs": [
    {
     "name": "stdout",
     "output_type": "stream",
     "text": [
      "weyl:  [0.45115243 0.49051652]\n",
      "haber:  [0.9848481  0.73066959 0.57427527 0.60777532 0.49120597]\n",
      "nie:  [0.44924097 0.198421   0.28427125 0.74802104 0.63594873]\n",
      "baker:  [0.78112198 0.71073846 0.26318205 0.66316857 0.83430396]\n"
     ]
    }
   ],
   "source": [
    "# d个dimension，第n个vector \n",
    "# quasi 蒙特卡洛的四种方法，本质上也是取随机数，但是有一定的公式\n",
    "\n",
    "\n",
    "def func_equi(n,d,seq='weyl'):\n",
    "    # weyl\n",
    "    if seq=='weyl':\n",
    "        value=np.sqrt(primes_ascend(d))*n\n",
    "        \n",
    "        # np.floor是向下取整\n",
    "        \n",
    "        weyl=value-np.floor(value)\n",
    "        return weyl\n",
    "    #haber\n",
    "    elif seq=='haber':\n",
    "        value=np.sqrt(primes_ascend(d))*n*(n+1)/2\n",
    "        haber=value-np.floor(value)\n",
    "        return haber\n",
    "    #nie\n",
    "    elif seq=='nie':\n",
    "        value=n*(2**(np.arange(1,d+1)/(d+1)))\n",
    "        nie=value-np.floor(value)\n",
    "        return nie\n",
    "    #baker\n",
    "    else:\n",
    "        value=n*(np.exp(primes_ascend(d)))\n",
    "        baker=value-np.floor(value)\n",
    "        return baker\n",
    "\n",
    "\n",
    "print ('weyl: ',func_equi(1073,2,'weyl'))\n",
    "print ('haber: ',func_equi(20,5,'haber'))\n",
    "print ('nie: ',func_equi(20,5,'nie'))\n",
    "print ('baker: ',func_equi(20,5,'baker'))"
   ]
  },
  {
   "cell_type": "code",
   "execution_count": 15,
   "metadata": {},
   "outputs": [],
   "source": [
    "# test plot\n",
    "\n",
    "x_1 = []\n",
    "y_1 = []\n",
    "x_2 = []\n",
    "y_2 = []\n",
    "x_3 = []\n",
    "y_3 = []\n",
    "x_4 = []\n",
    "y_4 = []\n",
    "\n",
    "for i in range(0, 1000):\n",
    "    x_1.append(func_equi(i, 2,seq='weyl')[0])\n",
    "    y_1.append(func_equi(i, 2,seq='weyl')[1])\n",
    "    x_2.append(func_equi(i, 2, seq='haber')[0])\n",
    "    y_2.append(func_equi(i, 2, seq='haber')[1])\n",
    "    x_3.append(func_equi(i, 2, seq='nie')[0])\n",
    "    y_3.append(func_equi(i, 2, seq='nie')[1])    \n",
    "    x_4.append(func_equi(i, 2, seq='baker')[0])\n",
    "    y_4.append(func_equi(i, 2, seq='baker')[1])"
   ]
  },
  {
   "cell_type": "code",
   "execution_count": 17,
   "metadata": {},
   "outputs": [
    {
     "data": {
      "image/png": "[encoded data removed]",
      "text/plain": [
       "<Figure size 576x576 with 4 Axes>"
      ]
     },
     "metadata": {
      "needs_background": "light"
     },
     "output_type": "display_data"
    }
   ],
   "source": [
    "fig = plt.figure(figsize=(8, 8))\n",
    "ax1 = fig.add_subplot(221) #2*2的布局的第一个位置\n",
    "\n",
    "# plot是折线图，scatter散点图，基本能覆盖domain\n",
    "\n",
    "ax1.scatter(x_1, y_1)\n",
    "ax1.set_title(\"weyl\")\n",
    "ax2 = fig.add_subplot(222)\n",
    "ax2.scatter(x_2, y_2)\n",
    "ax2.set_title(\"haber\")\n",
    "ax3 = fig.add_subplot(223)\n",
    "ax3.scatter(x_3, y_3)\n",
    "ax3.set_title(\"nie\")\n",
    "ax4 = fig.add_subplot(224)\n",
    "ax4.scatter(x_4, y_4)\n",
    "ax4.set_title(\"baker\")\n",
    "plt.show()"
   ]
  },
  {
   "cell_type": "markdown",
   "metadata": {},
   "source": [
    "### Ex 4.3"
   ]
  },
  {
   "cell_type": "code",
   "execution_count": 14,
   "metadata": {},
   "outputs": [],
   "source": [
    "np.random.seed(25)"
   ]
  },
  {
   "cell_type": "code",
   "execution_count": 15,
   "metadata": {},
   "outputs": [
    {
     "name": "stdout",
     "output_type": "stream",
     "text": [
      "The smallest number of Weyl is 1230 and approximation is:  3.1414634146341465\n",
      "The smallest number of Haber is 2064 and approximation is:  3.141472868217054\n",
      "The smallest number of Nie is 1845 and approximation is:  3.1414634146341465\n",
      "The smallest number of Baker is 1272 and approximation is:  3.141509433962264\n"
     ]
    }
   ],
   "source": [
    "g_pii=lambda x,y:x**2+y**2<=1\n",
    "\n",
    "# 用某个方法估计pi\n",
    "# 默认func——equi是估计【0，1】的一个list，所以domian出来要加范围\n",
    "\n",
    "def func_equi_pi(g,domain,n,seq):\n",
    "    \n",
    "    xb=domain[0][0]\n",
    "    xt=domain[0][1]\n",
    "    yb=domain[1][0]\n",
    "    yt=domain[1][1]\n",
    "    if seq=='weyl':\n",
    "        x_1 = np.array([2*func_equi(i, 2,'weyl')[0] -1 for i in range(n)])\n",
    "        y_1 = np.array([2*func_equi(i, 2,'weyl')[1] -1 for i in range(n)])\n",
    "    elif seq=='haber':\n",
    "        x_1 = np.array([(xt-xb)*func_equi(i, 2,'haber')[0] + xb for i in range(n)])\n",
    "        y_1 = np.array([(yt-yb)*func_equi(i, 2,'haber')[1] + yb for i in range(n)])\n",
    "    elif seq=='nie':\n",
    "        x_1 = np.array([(xt-xb)*func_equi(i, 2,'nie')[0] + xb for i in range(n)])\n",
    "        y_1 = np.array([(yt-yb)*func_equi(i, 2,'nie')[1] + yb for i in range(n)])\n",
    "    elif seq=='baker':\n",
    "        x_1 = np.array([(xt-xb)*func_equi(i, 2,'baker')[0] + xb for i in range(n)])\n",
    "        y_1 = np.array([(yt-yb)*func_equi(i, 2,'baker')[1] + yb for i in range(n)])\n",
    "    \n",
    "    area=(xt-xb)*(yt-yb)\n",
    "    #print(area)\n",
    "    return area*np.sum(g(x_1,y_1))/n\n",
    "\n",
    "t1=t2=t3=t4=True\n",
    "\n",
    "j=1\n",
    "while round(func_equi_pi(g_pii,[[-1,1],[-1,1]],j,\"weyl\"),4)!=3.1415:\n",
    "    j+=1\n",
    "    if j>1000000:\n",
    "        print ('Does not converge to 3.1415 by finite draws')\n",
    "        t1=False\n",
    "        break\n",
    "if t1:\n",
    "    print(\"The smallest number of Weyl is\", j, 'and approximation is: ', func_equi_pi(g_pii,[[-1,1],[-1,1]],j,\"weyl\"))\n",
    "\n",
    "j=1\n",
    "while round(func_equi_pi(g_pii,[[-1,1],[-1,1]],j,'haber'),4)!=3.1415:\n",
    "    j+=1  \n",
    "    if j>1000000:\n",
    "        print ('Does not converge to 3.1415 by finite draws')\n",
    "        t2=False\n",
    "        break\n",
    "if t2:\n",
    "    print(\"The smallest number of Haber is\", j, 'and approximation is: ',func_equi_pi(g_pii,[[-1,1],[-1,1]],j,\"haber\"))\n",
    "\n",
    "j=1\n",
    "while round(func_equi_pi(g_pii,[[-1,1],[-1,1]],j,'nie'),4)!=3.1415:\n",
    "    j+=1  \n",
    "    if j>1000000:\n",
    "        print ('Does not converge to 3.1415 by finite draws')\n",
    "        t3=False\n",
    "        break\n",
    "if t3:\n",
    "    print(\"The smallest number of Nie is\", j,'and approximation is: ', func_equi_pi(g_pii,[[-1,1],[-1,1]],j,\"nie\"))\n",
    "\n",
    "j=1\n",
    "while round(func_equi_pi(g_pii,[[-1,1],[-1,1]],j,'baker'),4)!=3.1415:\n",
    "    j+=1  \n",
    "    if j>1000000:\n",
    "        print ('Does not converge to 3.1415 by finite draws')\n",
    "        t4=False\n",
    "        break\n",
    "if t4:\n",
    "    print(\"The smallest number of Baker is\", j,'and approximation is: ', func_equi_pi(g_pii,[[-1,1],[-1,1]],j,\"baker\"))\n",
    "\n"
   ]
  },
  {
   "cell_type": "markdown",
   "metadata": {},
   "source": [
    "Compared with the four quasi-MC methods, the Weyl method has the fastest rate of convergence, followed by Baker, Niederreiter,and Haber method."
   ]
  },
  {
   "cell_type": "code",
   "execution_count": 1,
   "metadata": {},
   "outputs": [
    {
     "ename": "TypeError",
     "evalue": "pows() missing 1 required positional argument: 'y'",
     "output_type": "error",
     "traceback": [
      "\u001b[0;31m---------------------------------------------------------------------------\u001b[0m",
      "\u001b[0;31mTypeError\u001b[0m                                 Traceback (most recent call last)",
      "\u001b[0;32m<ipython-input-1-58bfd5abe72b>\u001b[0m in \u001b[0;36m<module>\u001b[0;34m\u001b[0m\n\u001b[1;32m      3\u001b[0m \u001b[0;34m\u001b[0m\u001b[0m\n\u001b[1;32m      4\u001b[0m \u001b[0mparas\u001b[0m\u001b[0;34m=\u001b[0m\u001b[0;34m[\u001b[0m\u001b[0;36m4\u001b[0m\u001b[0;34m,\u001b[0m\u001b[0;36m3\u001b[0m\u001b[0;34m]\u001b[0m\u001b[0;34m\u001b[0m\u001b[0;34m\u001b[0m\u001b[0m\n\u001b[0;32m----> 5\u001b[0;31m \u001b[0mpows\u001b[0m\u001b[0;34m(\u001b[0m\u001b[0mparas\u001b[0m\u001b[0;34m)\u001b[0m\u001b[0;34m\u001b[0m\u001b[0;34m\u001b[0m\u001b[0m\n\u001b[0m",
      "\u001b[0;31mTypeError\u001b[0m: pows() missing 1 required positional argument: 'y'"
     ]
    }
   ],
   "source": [
    "def pows(x,y):\n",
    "    return x**y\n",
    "\n",
    "paras=[4,3]\n",
    "pows(paras) #直接放paras有问题，因为list只占一个位置，但pows有俩"
   ]
  },
  {
   "cell_type": "code",
   "execution_count": 2,
   "metadata": {},
   "outputs": [
    {
     "data": {
      "text/plain": [
       "64"
      ]
     },
     "execution_count": 2,
     "metadata": {},
     "output_type": "execute_result"
    }
   ],
   "source": [
    "pows(*paras) #调用函数的时候*是用来unpack的，这里等价于pows（4，3）"
   ]
  },
  {
   "cell_type": "code",
   "execution_count": null,
   "metadata": {},
   "outputs": [],
   "source": []
  }
 ],
 "metadata": {
  "kernelspec": {
   "display_name": "Python 3",
   "language": "python",
   "name": "python3"
  },
  "language_info": {
   "codemirror_mode": {
    "name": "ipython",
    "version": 3
   },
   "file_extension": ".py",
   "mimetype": "text/x-python",
   "name": "python",
   "nbconvert_exporter": "python",
   "pygments_lexer": "ipython3",
   "version": "3.7.5"
  }
 },
 "nbformat": 4,
 "nbformat_minor": 4
}
