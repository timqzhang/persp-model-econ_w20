{
 "cells": [
  {
   "cell_type": "markdown",
   "metadata": {},
   "source": [
    "## Homework 2 for Perspective Winter 2020\n",
    "### Qian Zhang"
   ]
  },
  {
   "cell_type": "markdown",
   "metadata": {},
   "source": [
    "## Question 1"
   ]
  },
  {
   "cell_type": "markdown",
   "metadata": {},
   "source": [
    "### Problem 1"
   ]
  },
  {
   "cell_type": "code",
   "execution_count": 1,
   "metadata": {},
   "outputs": [],
   "source": [
    "import sympy as sy\n",
    "\n",
    "# how to diff\n",
    "\n",
    "# lambdify fx and fx\n",
    "# 在写函数前要先symbol变量，变量可以下标，识别特殊符号ie sigma\n",
    "\n",
    "x=sy.symbols('x')\n",
    "f_x=(sy.sin(x)+1)**(sy.sin(sy.cos(x)))\n",
    "\n",
    "# lambidy可以变成callable的func\n",
    "# 这个如果fx有很多变量，用lambdify(tuple([var]),fx),详见midterm19\n",
    "\n",
    "fx=sy.lambdify(x,f_x)\n",
    "\n",
    "# diff 用原函数，使用prime的时候lambdify\n",
    "\n",
    "f_prime=sy.diff(f_x,x)\n",
    "fp=sy.lambdify(x,f_prime)\n",
    "\n"
   ]
  },
  {
   "cell_type": "code",
   "execution_count": 86,
   "metadata": {},
   "outputs": [
    {
     "name": "stdout",
     "output_type": "stream",
     "text": [
      "{b_t, w_t, r_t, sigma, b_t+1}\n",
      "{b_t, w_t, r_t, sigma, b_t+1}\n"
     ]
    },
    {
     "data": {
      "text/latex": [
       "$\\displaystyle - \\frac{\\sigma \\left(r_{t} + 1\\right) \\left(b_{t} \\left(r_{t} + 1\\right) - b_{t+1} + w_{t}\\right)^{- \\sigma}}{b_{t} \\left(r_{t} + 1\\right) - b_{t+1} + w_{t}}$"
      ],
      "text/plain": [
       "-sigma*(r_t + 1)*(b_t*(r_t + 1) - b_t+1 + w_t)**(-sigma)/(b_t*(r_t + 1) - b_t+1 + w_t)"
      ]
     },
     "execution_count": 86,
     "metadata": {},
     "output_type": "execute_result"
    }
   ],
   "source": [
    "import sympy as sy\n",
    "\n",
    "# 设置变量的名字和代号\n",
    "\n",
    "bt=sy.symbols('b_t')\n",
    "btp1=sy.symbols('b_t+1')\n",
    "rt=sy.symbols('r_t')\n",
    "wt=sy.symbols('w_t')\n",
    "s=sy.symbols('sigma')\n",
    "print(mu.atoms(sy.Symbol))\n",
    "\n",
    "#原函数\n",
    "mu=((1+rt)*bt+wt-btp1)**(-s)\n",
    "\n",
    "print(mu.atoms(sy.Symbol))\n",
    "\n",
    "#对某个变量求导\n",
    "mu_prime=sy.diff(mu,bt)\n",
    "\n",
    "#对所有变量的callable 变成lambda\n",
    "mu_lamall=sy.lambdify(tuple([bt,btp1,rt,wt,s]),mu)\n",
    "\n",
    "#对导数lambdify\n",
    "mu_primelam=sy.lambdify(tuple([bt,btp1,rt,wt,s]),mu_prime)\n",
    "\n",
    "mu_prime"
   ]
  },
  {
   "cell_type": "code",
   "execution_count": 2,
   "metadata": {},
   "outputs": [
    {
     "data": {
      "text/latex": [
       "$\\displaystyle \\left(- \\log{\\left(\\sin{\\left(x \\right)} + 1 \\right)} \\sin{\\left(x \\right)} \\cos{\\left(\\cos{\\left(x \\right)} \\right)} + \\frac{\\sin{\\left(\\cos{\\left(x \\right)} \\right)} \\cos{\\left(x \\right)}}{\\sin{\\left(x \\right)} + 1}\\right) \\left(\\sin{\\left(x \\right)} + 1\\right)^{\\sin{\\left(\\cos{\\left(x \\right)} \\right)}}$"
      ],
      "text/plain": [
       "(-log(sin(x) + 1)*sin(x)*cos(cos(x)) + sin(cos(x))*cos(x)/(sin(x) + 1))*(sin(x) + 1)**sin(cos(x))"
      ]
     },
     "execution_count": 2,
     "metadata": {},
     "output_type": "execute_result"
    }
   ],
   "source": [
    "f_prime"
   ]
  },
  {
   "cell_type": "code",
   "execution_count": 23,
   "metadata": {},
   "outputs": [
    {
     "data": {
      "text/plain": [
       "<matplotlib.legend.Legend at 0x821505850>"
      ]
     },
     "execution_count": 23,
     "metadata": {},
     "output_type": "execute_result"
    },
    {
     "data": {
      "image/png": "[encoded data removed]",
      "text/plain": [
       "<Figure size 432x288 with 1 Axes>"
      ]
     },
     "metadata": {
      "needs_background": "light"
     },
     "output_type": "display_data"
    }
   ],
   "source": [
    "#draw the plot\n",
    "from matplotlib import pyplot as plt\n",
    "import numpy as np\n",
    "import math\n",
    "\n",
    "# x轴放到0的位置\n",
    "\n",
    "plt.gca().spines['bottom'].set_position('zero')\n",
    "\n",
    "z_points=np.linspace(-math.pi,math.pi,2000)\n",
    "\n",
    "# 加图例的方法\n",
    "\n",
    "plt.plot(z_points,fx(z_points),label='original function')\n",
    "plt.plot(z_points,fp(z_points),label='derivative')\n",
    "plt.legend(loc='lower right') # 图例的位置"
   ]
  },
  {
   "cell_type": "code",
   "execution_count": 24,
   "metadata": {},
   "outputs": [
    {
     "data": {
      "text/plain": [
       "array([-5.        , -3.88888889, -2.77777778, -1.66666667, -0.55555556,\n",
       "        0.55555556,  1.66666667,  2.77777778,  3.88888889,  5.        ])"
      ]
     },
     "execution_count": 24,
     "metadata": {},
     "output_type": "execute_result"
    }
   ],
   "source": [
    "# 包括max和min的一共n个点\n",
    "\n",
    "np.linspace(-5,5,10)"
   ]
  },
  {
   "cell_type": "markdown",
   "metadata": {},
   "source": [
    "### Problem 2"
   ]
  },
  {
   "cell_type": "code",
   "execution_count": 4,
   "metadata": {},
   "outputs": [],
   "source": [
    "# function define\n",
    "\n",
    "# 具体的appro放法在notepdf里面\n",
    "\n",
    "def func_f1(f,x,h):\n",
    "    return (f(x+h)-f(x))/h\n",
    "\n",
    "def func_f2(f,x,h):\n",
    "    return (-3*f(x)+4*f(x+h)-f(x+2*h))/(2*h)\n",
    "\n",
    "def func_b1(f,x,h):\n",
    "    return (f(x)-f(x-h))/h\n",
    "\n",
    "def func_b2(f,x,h):\n",
    "    return (3*f(x)-4*f(x-h)+f(x-2*h))/(2*h)\n",
    "\n",
    "def func_c2(f,x,h):\n",
    "    return (f(x+h)-f(x-h))/(2*h)\n",
    "\n",
    "def func_c4(f,x,h):\n",
    "    return (f(x-2*h)-8*f(x-h)+8*f(x+h)-f(x+2*h))/(12*h)"
   ]
  },
  {
   "cell_type": "code",
   "execution_count": 5,
   "metadata": {},
   "outputs": [
    {
     "data": {
      "text/plain": [
       "<matplotlib.legend.Legend at 0x820c83f90>"
      ]
     },
     "execution_count": 5,
     "metadata": {},
     "output_type": "execute_result"
    },
    {
     "data": {
      "image/png": "[encoded data removed]",
      "text/plain": [
       "<Figure size 432x288 with 1 Axes>"
      ]
     },
     "metadata": {
      "needs_background": "light"
     },
     "output_type": "display_data"
    }
   ],
   "source": [
    "#plot draw\n",
    "\n",
    "h=0.01\n",
    "\n",
    "# 多张图画在一张图\n",
    "\n",
    "ax=plt.gca()\n",
    "ax.spines['bottom'].set_position('zero')\n",
    "ax.plot(z_points,fp(z_points),label='derivative of f')\n",
    "ax.plot(z_points,func_f1(fx,z_points,h),label='forward order 1')\n",
    "ax.plot(z_points,func_f2(fx,z_points,h),label='forward order 2')\n",
    "ax.plot(z_points,func_b1(fx,z_points,h),label='backward order 1')\n",
    "ax.plot(z_points,func_b2(fx,z_points,h),label='backward order 2')\n",
    "ax.plot(z_points,func_c2(fx,z_points,h),label='centered order 2')\n",
    "ax.plot(z_points,func_c4(fx,z_points,h),label='centered order 4')\n",
    "ax.legend()"
   ]
  },
  {
   "cell_type": "markdown",
   "metadata": {},
   "source": [
    "The approximations of the derivative are extremely similar to the true one."
   ]
  },
  {
   "cell_type": "markdown",
   "metadata": {},
   "source": [
    "### Problem 3"
   ]
  },
  {
   "cell_type": "code",
   "execution_count": 6,
   "metadata": {},
   "outputs": [
    {
     "data": {
      "text/plain": [
       "array([1.e-08, 1.e-07, 1.e-06, 1.e-05, 1.e-04, 1.e-03, 1.e-02, 1.e-01,\n",
       "       1.e+00])"
      ]
     },
     "execution_count": 6,
     "metadata": {},
     "output_type": "execute_result"
    }
   ],
   "source": [
    "#define h\n",
    "\n",
    "# 如何计算不同估计的err\n",
    "\n",
    "h_series=np.logspace(-8,0,9)\n",
    "h_series"
   ]
  },
  {
   "cell_type": "code",
   "execution_count": 7,
   "metadata": {},
   "outputs": [],
   "source": [
    "# calc the errors\n",
    "\n",
    "def func_deriv(x0):\n",
    "    return fp(x0)\n",
    "\n",
    "x_0=1\n",
    "\n",
    "# func里面输入一个numpy可以返回一个numpy\n",
    "\n",
    "er_f1=abs(func_deriv(x_0)-func_f1(fx,x_0,h_series))\n",
    "er_f2=abs(func_deriv(x_0)-func_f2(fx,x_0,h_series))\n",
    "er_b1=abs(func_deriv(x_0)-func_b1(fx,x_0,h_series))\n",
    "er_b2=abs(func_deriv(x_0)-func_b2(fx,x_0,h_series))\n",
    "er_c2=abs(func_deriv(x_0)-func_c2(fx,x_0,h_series))\n",
    "er_c4=abs(func_deriv(x_0)-func_c4(fx,x_0,h_series))"
   ]
  },
  {
   "cell_type": "code",
   "execution_count": 8,
   "metadata": {},
   "outputs": [
    {
     "data": {
      "text/plain": [
       "<matplotlib.legend.Legend at 0x820c2d510>"
      ]
     },
     "execution_count": 8,
     "metadata": {},
     "output_type": "execute_result"
    },
    {
     "data": {
      "image/png": "[encoded data removed]",
      "text/plain": [
       "<Figure size 432x288 with 1 Axes>"
      ]
     },
     "metadata": {
      "needs_background": "light"
     },
     "output_type": "display_data"
    }
   ],
   "source": [
    "#plot draw\n",
    "\n",
    "ax=plt.gca()\n",
    "\n",
    "# loglog是单位为log的图\n",
    "\n",
    "ax.loglog(h_series,er_f1,label='forward order 1')\n",
    "ax.loglog(h_series,er_f2,label='forward order 2')\n",
    "ax.loglog(h_series,er_b1,label='backward order 1')\n",
    "ax.loglog(h_series,er_b2,label='backward order 2')\n",
    "ax.loglog(h_series,er_c2,label='centered order 2')\n",
    "ax.loglog(h_series,er_c4,label='centered order 4')\n",
    "\n",
    "# plt加xy轴note的方法\n",
    "\n",
    "plt.xlabel(\"h\")\n",
    "plt.ylabel(\"Absolute Error\")\n",
    "plt.legend(loc=\"lower right\")"
   ]
  },
  {
   "cell_type": "markdown",
   "metadata": {},
   "source": [
    "### Problem 4"
   ]
  },
  {
   "cell_type": "code",
   "execution_count": 26,
   "metadata": {},
   "outputs": [
    {
     "name": "stdout",
     "output_type": "stream",
     "text": [
      "[[ 7.   56.25 67.54]\n",
      " [ 8.   55.53 66.57]\n",
      " [ 9.   54.8  65.59]\n",
      " [10.   54.06 64.59]\n",
      " [11.   53.34 63.62]\n",
      " [12.   52.69 62.74]\n",
      " [13.   51.94 61.72]\n",
      " [14.   51.28 60.82]] \n",
      "\n",
      "[0.9817477  0.96918133 0.95644043 0.94352499 0.93095862 0.91961398\n",
      " 0.90652401 0.89500484]\n",
      "[1.17879538 1.16186568 1.14476146 1.12730816 1.11037847 1.09501957\n",
      " 1.07721721 1.06150925]\n"
     ]
    }
   ],
   "source": [
    "# load the degrees and convert\n",
    "\n",
    "# input npy的方法\n",
    "\n",
    "dt=np.load('plane.npy')\n",
    "print(dt,'\\n')\n",
    "time=dt[:,0]\n",
    "alpha_deg=dt[:,1]\n",
    "beta_deg=dt[:,2]\n",
    "\n",
    "# degree to radius 的方法，返过来是 rad2deg\n",
    "\n",
    "alpha_rad=np.deg2rad(alpha_deg)\n",
    "beta_rad=np.deg2rad(beta_deg)\n",
    "print(alpha_rad)\n",
    "print(beta_rad)"
   ]
  },
  {
   "cell_type": "code",
   "execution_count": 10,
   "metadata": {},
   "outputs": [],
   "source": [
    "speed=np.zeros(8)"
   ]
  },
  {
   "cell_type": "code",
   "execution_count": 11,
   "metadata": {},
   "outputs": [
    {
     "name": "stdout",
     "output_type": "stream",
     "text": [
      "[1311.2713366  1355.9364762  1401.91839832 1450.49700629 1498.64035029\n",
      " 1543.79895461 1598.04138183 1647.59609291]\n",
      "[1962.45623878 1975.11450516 1987.34601606 2000.84071299 2013.51241079\n",
      " 2025.7922335  2040.99058265 2055.06557068]\n"
     ]
    }
   ],
   "source": [
    "# calc the coor\n",
    "\n",
    "# sympy和numpy都有三角函数\n",
    "\n",
    "x_coor=500*(np.tan(beta_rad))/(np.tan(beta_rad)-np.tan(alpha_rad))\n",
    "y_coor=500*(np.tan(beta_rad)*np.tan(alpha_rad))/(np.tan(beta_rad)-np.tan(alpha_rad))\n",
    "\n",
    "print(x_coor)\n",
    "print(y_coor)"
   ]
  },
  {
   "cell_type": "code",
   "execution_count": 12,
   "metadata": {},
   "outputs": [],
   "source": [
    "# for t=7 diff\n",
    "h=1\n",
    "x7_p=(x_coor[0+h]-x_coor[0])/h\n",
    "y7_p=(y_coor[0+h]-y_coor[0])/h\n",
    "spd_7=np.sqrt(x7_p**2+y7_p**2)\n",
    "speed[0]=spd_7"
   ]
  },
  {
   "cell_type": "code",
   "execution_count": 13,
   "metadata": {},
   "outputs": [],
   "source": [
    "# for t=14 diff\n",
    "x14_p=(x_coor[-1]-x_coor[-1-h])/h\n",
    "y14_p=(y_coor[-1]-y_coor[-1-h])/h\n",
    "spd_14=np.sqrt(x14_p**2+y14_p**2)\n",
    "speed[-1]=spd_14"
   ]
  },
  {
   "cell_type": "code",
   "execution_count": 14,
   "metadata": {},
   "outputs": [],
   "source": [
    "# for t=8 to 13 diff\n",
    "for i in range(1,7):\n",
    "    xi_p=(x_coor[i+h]-x_coor[i-h])/(2*h)\n",
    "    yi_p=(y_coor[i+h]-y_coor[i-h])/(2*h)\n",
    "    spd_i=np.sqrt(xi_p**2+yi_p**2)\n",
    "    speed[i]=spd_i"
   ]
  },
  {
   "cell_type": "code",
   "execution_count": 15,
   "metadata": {},
   "outputs": [
    {
     "name": "stdout",
     "output_type": "stream",
     "text": [
      "The speed at time=7 is 46.4242006221338\n",
      "The speed at time=8 is 47.00103938095341\n",
      "The speed at time=9 is 48.99880514036797\n",
      "The speed at time=10 is 50.09944162965227\n",
      "The speed at time=11 is 48.290350838204915\n",
      "The speed at time=12 is 51.5645590492722\n",
      "The speed at time=13 is 53.923033545053535\n",
      "The speed at time=14 is 51.51480056963696\n"
     ]
    }
   ],
   "source": [
    "# speed from t=7 to 14\n",
    "for i in range(8):\n",
    "    print ('The speed at time={} is {}'.format(i+7,speed[i]))\n"
   ]
  },
  {
   "cell_type": "markdown",
   "metadata": {},
   "source": [
    "### Problem 5"
   ]
  },
  {
   "cell_type": "code",
   "execution_count": 43,
   "metadata": {},
   "outputs": [],
   "source": [
    "## 估计jab矩阵的通用func （注意是估计，不是true value）\n",
    "\n",
    "def func_j(ff,x0,h):\n",
    "    var=[]\n",
    "    for fi in ff:\n",
    "        for va in fi.atoms(sy.Symbol):\n",
    "            if va not in var:\n",
    "                var.append(va)\n",
    "\n",
    "    I = np.identity(len(x0))\n",
    "    J = sy.zeros(len(ff),len(x0))\n",
    "    for i,fi in enumerate(ff):\n",
    "        for j,va in enumerate(var):\n",
    "            f=sy.lambdify(tuple(var),fi)\n",
    "            a=(x0+h*I[:,j])\n",
    "            b=(x0-h*I[:,j])\n",
    "            temp=(f(*a)-f(*b))/(2*h)\n",
    "            J[i,j]=temp\n",
    "    return J\n",
    "\n",
    "# 计算准确的在x0处的jab矩阵\n",
    "\n",
    "def func_jt(ff,x0):\n",
    "    var=[]\n",
    "    for fi in ff:\n",
    "        for va in fi.atoms(sy.Symbol):\n",
    "            if va not in var:\n",
    "                var.append(va)\n",
    "\n",
    "    I = np.identity(len(x0))\n",
    "    J = sy.zeros(len(ff),len(x0))\n",
    "    for i,fi in enumerate(ff):\n",
    "        for j,va in enumerate(var):\n",
    "            fp=sy.lambdify(tuple(var),sy.diff(fi,va))\n",
    "            J[i,j]=fp(*x0) #如果matrix每一个偏导的表达式，j[i,j]=sy.diff(fi,va)\n",
    "    return J\n",
    "\n"
   ]
  },
  {
   "cell_type": "code",
   "execution_count": 44,
   "metadata": {},
   "outputs": [
    {
     "data": {
      "text/latex": [
       "$\\displaystyle \\left[\\begin{matrix}10 & 0\\\\75 & -1\\\\0 & 14\\end{matrix}\\right]$"
      ],
      "text/plain": [
       "Matrix([\n",
       "[10,  0],\n",
       "[75, -1],\n",
       "[ 0, 14]])"
      ]
     },
     "execution_count": 44,
     "metadata": {},
     "output_type": "execute_result"
    }
   ],
   "source": [
    "#test function\n",
    "x=sy.symbols('x')\n",
    "y=sy.symbols('y')\n",
    "f_xy=[x**2,x**3-y,y**2]\n",
    "\n",
    "func_jt(f_xy,[5,7])"
   ]
  },
  {
   "cell_type": "code",
   "execution_count": 45,
   "metadata": {},
   "outputs": [],
   "source": [
    "#test function\n",
    "x=sy.symbols('x')\n",
    "y=sy.symbols('y')\n",
    "f_xy=[x**2,x**3-y]"
   ]
  },
  {
   "cell_type": "code",
   "execution_count": 46,
   "metadata": {},
   "outputs": [
    {
     "data": {
      "text/latex": [
       "$\\displaystyle \\left[\\begin{matrix}9.99999999997669 & 0.0\\\\75.0000000098083 & -1.0000000000332\\end{matrix}\\right]$"
      ],
      "text/plain": [
       "Matrix([\n",
       "[9.99999999997669,              0.0],\n",
       "[75.0000000098083, -1.0000000000332]])"
      ]
     },
     "execution_count": 46,
     "metadata": {},
     "output_type": "execute_result"
    }
   ],
   "source": [
    "func_j(f_xy,[5,7],0.0001)"
   ]
  },
  {
   "cell_type": "code",
   "execution_count": 19,
   "metadata": {},
   "outputs": [],
   "source": [
    "# verify the result\n",
    "\n",
    "f1p_x=sy.diff(f_xy[0],x)\n",
    "f1p_y=sy.diff(f_xy[0],y)\n",
    "f2p_x=sy.diff(f_xy[1],x)\n",
    "f2p_y=sy.diff(f_xy[1],y)\n",
    "\n",
    "# lambdify\n",
    "f1px=sy.lambdify((x,y),f1p_x)\n",
    "f1py=sy.lambdify((x,y),f1p_y)\n",
    "f2px=sy.lambdify((x,y),f2p_x)\n",
    "f2py=sy.lambdify((x,y),f2p_y)\n",
    "\n",
    "J_test=np.array([[f1px(5,7),f1py(5,7)],[f2px(5,7),f2py(5,7)]])\n"
   ]
  },
  {
   "cell_type": "code",
   "execution_count": 20,
   "metadata": {},
   "outputs": [
    {
     "data": {
      "text/plain": [
       "array([[10,  0],\n",
       "       [75, -1]])"
      ]
     },
     "execution_count": 20,
     "metadata": {},
     "output_type": "execute_result"
    }
   ],
   "source": [
    "J_test"
   ]
  },
  {
   "cell_type": "markdown",
   "metadata": {},
   "source": [
    "The result is the same."
   ]
  },
  {
   "cell_type": "markdown",
   "metadata": {},
   "source": [
    "### Problem 7"
   ]
  },
  {
   "cell_type": "code",
   "execution_count": 91,
   "metadata": {},
   "outputs": [
    {
     "data": {
      "image/png": "[encoded data removed]",
      "text/plain": [
       "<Figure size 432x288 with 1 Axes>"
      ]
     },
     "metadata": {
      "needs_background": "light"
     },
     "output_type": "display_data"
    }
   ],
   "source": [
    "# 三种估计导数的方法的时间和err\n",
    "\n",
    "import random\n",
    "import time\n",
    "def func_exp(n):\n",
    "    h=1e-8\n",
    "    time_sy=np.zeros(0)\n",
    "    er_sy=np.zeros(0)\n",
    "    time_quo=np.zeros(0)\n",
    "    er_quo=np.zeros(0)\n",
    "    time_grad=np.zeros(0)\n",
    "    er_grad=np.zeros(0)\n",
    "    \n",
    "    for i in range(n):\n",
    "        \n",
    "        # 在某个范围内取随机实数\n",
    "        \n",
    "        x0=random.uniform(-math.pi,math.pi)\n",
    "\n",
    "        #sympy\n",
    "        \n",
    "        # 如何计算某个过程的时间长度start and end\n",
    "        \n",
    "        start=time.perf_counter()\n",
    "        f_prime=sy.diff(f_x,x)\n",
    "        fp=sy.lambdify(x,f_prime)\n",
    "        value=fp(x0)\n",
    "        \n",
    "        # np append的方法\n",
    "        \n",
    "        er_sy=np.append(er_sy,1e-18)\n",
    "        \n",
    "        end=time.perf_counter()\n",
    "        \n",
    "        time_sy=np.append(time_sy,end-start)\n",
    "        \n",
    "        #center quotient\n",
    "        \n",
    "        start=time.perf_counter()\n",
    "        er=abs(func_c4(fx,x0,h)-value)\n",
    "        end=time.perf_counter()\n",
    "        time_quo=np.append(time_quo,end-start)\n",
    "        er_quo=np.append(er_quo,er)\n",
    "        \n",
    "        #autograd\n",
    "        import autograd\n",
    "        from autograd import numpy as anp # grad版本的numpy\n",
    "        \n",
    "        fxx=lambda x: (anp.sin(x)+1)**(anp.sin(anp.cos(x)))\n",
    "        start=time.perf_counter()\n",
    "        \n",
    "        dydx=autograd.grad(fxx) \n",
    "        value2=dydx(x0) # 梯度估计的dydx在x0 更多的grad求导看diff pdf p9\n",
    "        \n",
    "        er2=abs(value2-value)\n",
    "        end=time.perf_counter()\n",
    "        time_grad=np.append(time_grad,end-start)\n",
    "        er_grad=np.append(er_grad,er2)\n",
    "        \n",
    "    #print(er_quo)\n",
    "    ax=plt.gca()\n",
    "    \n",
    "    # alpha是透明度，markersize是点大小，.是marker的format，也可以是o, -,*\n",
    "    \n",
    "    ax.loglog(time_sy,er_sy,'',markersize=15,alpha=0.3,label='sympy')\n",
    "    ax.loglog(time_quo,er_quo,'.',markersize=15,alpha=0.3,label='difference quotients')\n",
    "    ax.loglog(time_grad,er_grad,'.',markersize=15,alpha=0.3,label='autograd')\n",
    "    ax.legend()\n",
    "    plt.xlabel('Computation time (seconds)')\n",
    "    plt.ylabel('Absolute Error')\n",
    "n=200\n",
    "func_exp(n)\n",
    "    "
   ]
  },
  {
   "cell_type": "code",
   "execution_count": 52,
   "metadata": {},
   "outputs": [
    {
     "data": {
      "text/plain": [
       "array([0.3198829])"
      ]
     },
     "execution_count": 52,
     "metadata": {},
     "output_type": "execute_result"
    }
   ],
   "source": [
    "np.random.random(1)"
   ]
  },
  {
   "cell_type": "code",
   "execution_count": 58,
   "metadata": {},
   "outputs": [
    {
     "data": {
      "text/plain": [
       "array([[2.34647423, 2.43278303, 3.51458492, 0.34448085, 2.39676536]])"
      ]
     },
     "execution_count": 58,
     "metadata": {},
     "output_type": "execute_result"
    }
   ],
   "source": [
    "(5 - 0) * np.random.random_sample((1,5)) + 0\n",
    "# [0,5]的随机数"
   ]
  },
  {
   "cell_type": "code",
   "execution_count": 67,
   "metadata": {},
   "outputs": [
    {
     "data": {
      "text/plain": [
       "array([[4, 4, 1],\n",
       "       [2, 3, 2],\n",
       "       [4, 0, 3],\n",
       "       [2, 1, 1],\n",
       "       [3, 3, 4]])"
      ]
     },
     "execution_count": 67,
     "metadata": {},
     "output_type": "execute_result"
    }
   ],
   "source": [
    "np.random.randint(0,high=5,size=(5,3)) #随机整数"
   ]
  },
  {
   "cell_type": "code",
   "execution_count": 70,
   "metadata": {},
   "outputs": [],
   "source": [
    "np.random.seed(seed=25)\n",
    "random.seed(25) # 两种seed的设置"
   ]
  },
  {
   "cell_type": "code",
   "execution_count": 80,
   "metadata": {},
   "outputs": [],
   "source": [
    "from autograd import numpy as anp\n",
    "\n",
    "import autograd\n",
    "f_anp = lambda x: anp.array([x[0]**2, x[0]+x[1]]) #\n",
    "f_jac = autograd.jacobian(f_anp)"
   ]
  },
  {
   "cell_type": "code",
   "execution_count": 82,
   "metadata": {},
   "outputs": [
    {
     "data": {
      "text/plain": [
       "array([[2., 0.],\n",
       "       [1., 1.]])"
      ]
     },
     "execution_count": 82,
     "metadata": {},
     "output_type": "execute_result"
    }
   ],
   "source": [
    "f_jac(anp.array([1.,1.])) # 另一种jab的方法"
   ]
  },
  {
   "cell_type": "code",
   "execution_count": null,
   "metadata": {},
   "outputs": [],
   "source": []
  }
 ],
 "metadata": {
  "kernelspec": {
   "display_name": "Python 3",
   "language": "python",
   "name": "python3"
  },
  "language_info": {
   "codemirror_mode": {
    "name": "ipython",
    "version": 3
   },
   "file_extension": ".py",
   "mimetype": "text/x-python",
   "name": "python",
   "nbconvert_exporter": "python",
   "pygments_lexer": "ipython3",
   "version": "3.7.5"
  }
 },
 "nbformat": 4,
 "nbformat_minor": 4
}
