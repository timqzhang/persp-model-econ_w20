{
 "cells": [
  {
   "cell_type": "code",
   "execution_count": 2,
   "metadata": {},
   "outputs": [],
   "source": [
    "# Import the necessary libraries\n",
    "import numpy as np\n",
    "import scipy.stats as sts\n",
    "import requests\n",
    "import matplotlib.pyplot as plt\n",
    "import scipy.optimize as opt\n",
    "import pandas as pd"
   ]
  },
  {
   "cell_type": "code",
   "execution_count": 3,
   "metadata": {},
   "outputs": [
    {
     "data": {
      "text/html": [
       "<div>\n",
       "<style scoped>\n",
       "    .dataframe tbody tr th:only-of-type {\n",
       "        vertical-align: middle;\n",
       "    }\n",
       "\n",
       "    .dataframe tbody tr th {\n",
       "        vertical-align: top;\n",
       "    }\n",
       "\n",
       "    .dataframe thead th {\n",
       "        text-align: right;\n",
       "    }\n",
       "</style>\n",
       "<table border=\"1\" class=\"dataframe\">\n",
       "  <thead>\n",
       "    <tr style=\"text-align: right;\">\n",
       "      <th></th>\n",
       "      <th>sick</th>\n",
       "      <th>age</th>\n",
       "      <th>children</th>\n",
       "      <th>avgtemp_winter</th>\n",
       "    </tr>\n",
       "  </thead>\n",
       "  <tbody>\n",
       "    <tr>\n",
       "      <th>0</th>\n",
       "      <td>1.67</td>\n",
       "      <td>57.47</td>\n",
       "      <td>3.04</td>\n",
       "      <td>54.10</td>\n",
       "    </tr>\n",
       "    <tr>\n",
       "      <th>1</th>\n",
       "      <td>0.71</td>\n",
       "      <td>26.77</td>\n",
       "      <td>1.20</td>\n",
       "      <td>36.54</td>\n",
       "    </tr>\n",
       "    <tr>\n",
       "      <th>2</th>\n",
       "      <td>1.39</td>\n",
       "      <td>41.85</td>\n",
       "      <td>2.31</td>\n",
       "      <td>32.38</td>\n",
       "    </tr>\n",
       "    <tr>\n",
       "      <th>3</th>\n",
       "      <td>1.37</td>\n",
       "      <td>51.27</td>\n",
       "      <td>2.46</td>\n",
       "      <td>52.94</td>\n",
       "    </tr>\n",
       "    <tr>\n",
       "      <th>4</th>\n",
       "      <td>1.45</td>\n",
       "      <td>44.22</td>\n",
       "      <td>2.72</td>\n",
       "      <td>45.90</td>\n",
       "    </tr>\n",
       "  </tbody>\n",
       "</table>\n",
       "</div>"
      ],
      "text/plain": [
       "   sick    age  children  avgtemp_winter\n",
       "0  1.67  57.47      3.04           54.10\n",
       "1  0.71  26.77      1.20           36.54\n",
       "2  1.39  41.85      2.31           32.38\n",
       "3  1.37  51.27      2.46           52.94\n",
       "4  1.45  44.22      2.72           45.90"
      ]
     },
     "execution_count": 3,
     "metadata": {},
     "output_type": "execute_result"
    }
   ],
   "source": [
    "# Import data\n",
    "df_2 = pd.read_csv('data/sick.txt').astype('float64')\n",
    "df_2.head()"
   ]
  },
  {
   "cell_type": "code",
   "execution_count": 4,
   "metadata": {},
   "outputs": [],
   "source": [
    "# Define log likelihood function for normal distribution\n",
    "def log_lik_norm_2(sick, age, children, temp_winter, beta0, beta1, beta2, beta3, sigma):\n",
    "    \n",
    "    epsilon = sick - beta0 - beta1 * age - beta2 * children - beta3 * temp_winter\n",
    "    pdf_vals = sts.norm.pdf(epsilon, scale=sigma)\n",
    "    # To avoid \"divide by zero encountered in log\" warning when optimizing, I replace those 0 pdfs with a small positive number\n",
    "    pdf_vals[pdf_vals == 0] = 1e-10\n",
    "    ln_pdf_vals = np.log(pdf_vals)\n",
    "    log_lik_val = ln_pdf_vals.sum()\n",
    "    \n",
    "    return log_lik_val"
   ]
  },
  {
   "cell_type": "code",
   "execution_count": 5,
   "metadata": {},
   "outputs": [],
   "source": [
    "# Define the criterion function\n",
    "def crit_2(params, *args):\n",
    "    \n",
    "    beta0, beta1, beta2, beta3, sigma = params\n",
    "    sick, age, children, temp_winter = args\n",
    "    log_lik_val = log_lik_norm_2(sick, age, children, temp_winter, beta0, beta1, beta2, beta3, abs(sigma))\n",
    "    neg_log_lik_val = -log_lik_val\n",
    "    \n",
    "    return neg_log_lik_val"
   ]
  },
  {
   "cell_type": "code",
   "execution_count": 9,
   "metadata": {},
   "outputs": [
    {
     "name": "stderr",
     "output_type": "stream",
     "text": [
      "C:\\Users\\Thinkpad\\Anaconda3\\lib\\site-packages\\scipy\\optimize\\optimize.py:1048: RuntimeWarning: divide by zero encountered in double_scalars\n",
      "  rhok = 1.0 / (numpy.dot(yk, sk))\n",
      "C:\\Users\\Thinkpad\\Anaconda3\\lib\\site-packages\\scipy\\optimize\\optimize.py:1048: RuntimeWarning: divide by zero encountered in double_scalars\n",
      "  rhok = 1.0 / (numpy.dot(yk, sk))\n",
      "C:\\Users\\Thinkpad\\Anaconda3\\lib\\site-packages\\scipy\\optimize\\optimize.py:1048: RuntimeWarning: divide by zero encountered in double_scalars\n",
      "  rhok = 1.0 / (numpy.dot(yk, sk))\n"
     ]
    },
    {
     "name": "stdout",
     "output_type": "stream",
     "text": [
      "      fun: -876.8650462886311\n",
      " hess_inv: array([[ 4.31774051e-07, -1.53670021e-08,  1.18942935e-07,\n",
      "         4.47812306e-10, -7.30556511e-09],\n",
      "       [-1.53670021e-08,  3.14278602e-09, -2.51600722e-08,\n",
      "        -1.62109440e-09, -3.91880113e-10],\n",
      "       [ 1.18942935e-07, -2.51600722e-08,  2.37295095e-07,\n",
      "         1.18150674e-08,  4.73753887e-09],\n",
      "       [ 4.47812306e-10, -1.62109440e-09,  1.18150674e-08,\n",
      "         1.05816982e-09,  3.51207633e-10],\n",
      "       [-7.30556511e-09, -3.91880113e-10,  4.73753887e-09,\n",
      "         3.51207633e-10,  2.23558257e-08]])\n",
      "      jac: array([ 7.62939453e-06, -7.62939453e-06,  7.62939453e-06, -7.62939453e-06,\n",
      "        7.62939453e-06])\n",
      "  message: 'Optimization terminated successfully.'\n",
      "     nfev: 469\n",
      "      nit: 38\n",
      "     njev: 67\n",
      "   status: 0\n",
      "  success: True\n",
      "        x: array([ 0.25164638,  0.01293335,  0.40050205, -0.00999167,  0.00301768]) 0.037200000000000004\n"
     ]
    }
   ],
   "source": [
    "# minimize the negative sum of the log likelihood\n",
    "beta1_init_2 = 0.01\n",
    "beta2_init_2 = 0.4\n",
    "beta3_init_2 = -0.01\n",
    "sig_init_2 = 0.5\n",
    "for beta0_init_2 in np.linspace(0.0001, 1, 10000):\n",
    "    params_init_2 = np.array([beta0_init_2, beta1_init_2, beta2_init_2, beta3_init_2, sig_init_2])\n",
    "    MLE_args_2 = (df_2['sick'], df_2['age'], df_2['children'], df_2['avgtemp_winter'])\n",
    "    results_uncstr_2 = opt.minimize(crit_2, params_init_2, args=(MLE_args_2))\n",
    "    if round(results_uncstr_2.x[0], 2) == 0.25 and results_uncstr_2.success == True:\n",
    "        print(results_uncstr_2, beta0_init_2)\n",
    "        break"
   ]
  },
  {
   "cell_type": "code",
   "execution_count": null,
   "metadata": {},
   "outputs": [],
   "source": []
  }
 ],
 "metadata": {
  "kernelspec": {
   "display_name": "Python 3",
   "language": "python",
   "name": "python3"
  },
  "language_info": {
   "codemirror_mode": {
    "name": "ipython",
    "version": 3
   },
   "file_extension": ".py",
   "mimetype": "text/x-python",
   "name": "python",
   "nbconvert_exporter": "python",
   "pygments_lexer": "ipython3",
   "version": "3.7.6"
  }
 },
 "nbformat": 4,
 "nbformat_minor": 4
}
