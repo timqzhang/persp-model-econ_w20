{
 "cells": [
  {
   "cell_type": "code",
   "execution_count": 33,
   "metadata": {},
   "outputs": [],
   "source": [
    "def solution(N):\n",
    "    a = bin(N)\n",
    "    L = len(a)\n",
    "    while a[-1]=='0':\n",
    "         a=a[:-1]\n",
    "    str10 = \"10\"\n",
    "    str01 = \"01\"\n",
    "    if a.find(str10) == -1 or a.find(str01) == -1:\n",
    "         c = 0\n",
    "    else:\n",
    "         x = a.find(str10)\n",
    "         y = a.find(str01)\n",
    "         c = y-x\n",
    "         while x < L-2 and y < L-2:\n",
    "             x = a.find(str10,x+1)\n",
    "             y = a.find(str01,y+1)\n",
    "             if x==-1 or y==-1:\n",
    "                break\n",
    "             if y-x > c:\n",
    "                 c = y-x\n",
    "                 \n",
    "    return c"
   ]
  },
  {
   "cell_type": "code",
   "execution_count": 39,
   "metadata": {},
   "outputs": [
    {
     "name": "stdout",
     "output_type": "stream",
     "text": [
      "0b100010010010111001\n",
      "2 5\n",
      "6 8 3\n",
      "9 11 3\n",
      "12 13 3\n",
      "16 18 3\n"
     ]
    },
    {
     "data": {
      "text/plain": [
       "3"
      ]
     },
     "execution_count": 39,
     "metadata": {},
     "output_type": "execute_result"
    }
   ],
   "source": [
    "solution(561892)"
   ]
  },
  {
   "cell_type": "code",
   "execution_count": 18,
   "metadata": {},
   "outputs": [
    {
     "data": {
      "text/plain": [
       "18497"
      ]
     },
     "execution_count": 18,
     "metadata": {},
     "output_type": "execute_result"
    }
   ],
   "source": [
    "int('0b100100001000001',2)"
   ]
  },
  {
   "cell_type": "code",
   "execution_count": null,
   "metadata": {},
   "outputs": [],
   "source": []
  }
 ],
 "metadata": {
  "kernelspec": {
   "display_name": "Python 3",
   "language": "python",
   "name": "python3"
  },
  "language_info": {
   "codemirror_mode": {
    "name": "ipython",
    "version": 3
   },
   "file_extension": ".py",
   "mimetype": "text/x-python",
   "name": "python",
   "nbconvert_exporter": "python",
   "pygments_lexer": "ipython3",
   "version": "3.7.5"
  }
 },
 "nbformat": 4,
 "nbformat_minor": 2
}
